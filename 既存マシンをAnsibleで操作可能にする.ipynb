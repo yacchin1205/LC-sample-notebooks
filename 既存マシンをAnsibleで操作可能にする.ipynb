{
 "cells": [
  {
   "cell_type": "markdown",
   "metadata": {
    "lc_cell_meme": {
     "current": "24b9a866-f2e6-11e7-93cb-0242ac130002",
     "history": [],
     "next": "24b9a9ba-f2e6-11e7-93cb-0242ac130002",
     "previous": null
    }
   },
   "source": [
    "# About: 既存マシンをAnsibleで操作可能にする\n",
    "\n",
    "----\n",
    "\n",
    "このNotebookでは、このNotebookが置かれたJupyter Notebook環境(コンテナ)から、既存マシンに対してAnsibleにより操作可能な状態にする手順を説明しています。\n",
    "\n",
    "**Note** このNotebookは、NIIクラウド担当製Dockerイメージ https://hub.docker.com/r/niicloudoperation/notebook/ での利用を前提として記述しています。"
   ]
  },
  {
   "cell_type": "markdown",
   "metadata": {
    "lc_cell_meme": {
     "current": "24b9a9ba-f2e6-11e7-93cb-0242ac130002",
     "history": [],
     "next": "24b9aae6-f2e6-11e7-93cb-0242ac130002",
     "previous": "24b9a866-f2e6-11e7-93cb-0242ac130002"
    }
   },
   "source": [
    "# 前提条件\n",
    "\n",
    "既存マシンに対する前提条件を確認します。"
   ]
  },
  {
   "cell_type": "markdown",
   "metadata": {
    "lc_cell_meme": {
     "current": "24b9aae6-f2e6-11e7-93cb-0242ac130002",
     "history": [],
     "next": "24b9ac08-f2e6-11e7-93cb-0242ac130002",
     "previous": "24b9a9ba-f2e6-11e7-93cb-0242ac130002"
    }
   },
   "source": [
    "まず、以下の `target_host` 変数に、操作対象としたいマシンのIPアドレスもしくはドメイン名を指定しておきます。\n",
    "\n",
    "このチュートリアルは、ここで指定されたホストに対して、実際にコマンドを発行することで、各説明について具体的に確認していきます。"
   ]
  },
  {
   "cell_type": "code",
   "execution_count": 1,
   "metadata": {
    "deletable": false,
    "editable": false,
    "lc_cell_meme": {
     "current": "24b9ac08-f2e6-11e7-93cb-0242ac130002",
     "history": [],
     "next": "24b9ad2a-f2e6-11e7-93cb-0242ac130002",
     "previous": "24b9aae6-f2e6-11e7-93cb-0242ac130002"
    },
    "run_through_control": {
     "frozen": true,
     "read_only": false
    }
   },
   "outputs": [
    {
     "data": {
      "text/plain": [
       "'XXX.XXX.207.86'"
      ]
     },
     "execution_count": 1,
     "metadata": {},
     "output_type": "execute_result"
    }
   ],
   "source": [
    "target_host = 'XXX.XXX.207.86'\n",
    "target_host"
   ]
  },
  {
   "cell_type": "markdown",
   "metadata": {
    "lc_cell_meme": {
     "current": "24b9ad2a-f2e6-11e7-93cb-0242ac130002",
     "history": [],
     "next": "24b9ae42-f2e6-11e7-93cb-0242ac130002",
     "previous": "24b9ac08-f2e6-11e7-93cb-0242ac130002"
    }
   },
   "source": [
    "## 操作対象のマシンに対してJupyter Notebook環境から到達可能である\n",
    "\n",
    "このNotebookからAnsibleを通じて操作対象のマシンを操作するためには、操作対象のマシンに、このNotebookが実行されているJupyter Notebook環境からネットワーク的に疎通可能である必要があります。\n"
   ]
  },
  {
   "cell_type": "markdown",
   "metadata": {
    "lc_cell_meme": {
     "current": "24b9ae42-f2e6-11e7-93cb-0242ac130002",
     "history": [],
     "next": "24b9af50-f2e6-11e7-93cb-0242ac130002",
     "previous": "24b9ad2a-f2e6-11e7-93cb-0242ac130002"
    }
   },
   "source": [
    "\n",
    "ここでは、`ping`コマンドを通じて確認してみます。\n",
    "\n",
    "> Notebook (Python Kernelで実行している前提です) では、 `!` を行頭に記載することでshellコマンドを実行することができます。"
   ]
  },
  {
   "cell_type": "code",
   "execution_count": 2,
   "metadata": {
    "deletable": false,
    "editable": false,
    "lc_cell_meme": {
     "current": "24b9af50-f2e6-11e7-93cb-0242ac130002",
     "history": [],
     "next": "24b9b068-f2e6-11e7-93cb-0242ac130002",
     "previous": "24b9ae42-f2e6-11e7-93cb-0242ac130002"
    },
    "pinned_outputs": [
     {
      "execution_count": 2,
      "outputs": [
       {
        "name": "stdout",
        "output_type": "stream",
        "text": "PING XXX.XXX.207.86 (XXX.XXX.207.86): 56 data bytes\n64 bytes from XXX.XXX.207.86: icmp_seq=0 ttl=37 time=5.612 ms\n64 bytes from XXX.XXX.207.86: icmp_seq=1 ttl=37 time=6.052 ms\n64 bytes from XXX.XXX.207.86: icmp_seq=2 ttl=37 time=10.599 ms\n64 bytes from XXX.XXX.207.86: icmp_seq=3 ttl=37 time=7.651 ms\n--- XXX.XXX.207.86 ping statistics ---\n4 packets transmitted, 4 packets received, 0% packet loss\nround-trip min/avg/max/stddev = 5.612/7.478/10.599/1.955 ms\n"
       }
      ]
     }
    ],
    "run_through_control": {
     "frozen": true,
     "read_only": false
    }
   },
   "outputs": [
    {
     "name": "stdout",
     "output_type": "stream",
     "text": [
      "PING XXX.XXX.207.86 (XXX.XXX.207.86): 56 data bytes\n",
      "64 bytes from XXX.XXX.207.86: icmp_seq=0 ttl=37 time=5.612 ms\n",
      "64 bytes from XXX.XXX.207.86: icmp_seq=1 ttl=37 time=6.052 ms\n",
      "64 bytes from XXX.XXX.207.86: icmp_seq=2 ttl=37 time=10.599 ms\n",
      "64 bytes from XXX.XXX.207.86: icmp_seq=3 ttl=37 time=7.651 ms\n",
      "--- XXX.XXX.207.86 ping statistics ---\n",
      "4 packets transmitted, 4 packets received, 0% packet loss\n",
      "round-trip min/avg/max/stddev = 5.612/7.478/10.599/1.955 ms\n"
     ]
    }
   ],
   "source": [
    "!ping -c 4 {target_host}"
   ]
  },
  {
   "cell_type": "markdown",
   "metadata": {
    "lc_cell_meme": {
     "current": "24b9b068-f2e6-11e7-93cb-0242ac130002",
     "history": [],
     "next": "24b9b176-f2e6-11e7-93cb-0242ac130002",
     "previous": "24b9af50-f2e6-11e7-93cb-0242ac130002"
    }
   },
   "source": [
    "上記セルが失敗せず、`Out [2]` タブで示されるような内容が出力されれば成功です。\n",
    "\n",
    "なお、ここではping(**ICMP**)を使って疎通確認をしていますが、ファイアウォールの設定により疎通しない可能性があります。Ansibleの操作自体は原則として**SSH(TCP port 22)**を通じて実施されますので、ICMPが疎通しないことが明確な場合は上記セルはエラーのままスキップしても構いません。"
   ]
  },
  {
   "cell_type": "markdown",
   "metadata": {
    "lc_cell_meme": {
     "current": "24b9b176-f2e6-11e7-93cb-0242ac130002",
     "history": [],
     "next": "24b9b284-f2e6-11e7-93cb-0242ac130002",
     "previous": "24b9b068-f2e6-11e7-93cb-0242ac130002"
    }
   },
   "source": [
    "## 操作対象のマシンに対してJupyter Notebook環境からSSHが許可されている\n",
    "\n",
    "ネットワーク的に到達可能であることを確認したら、SSH(TCP port 22)が応答するかどうかを見てみましょう。"
   ]
  },
  {
   "cell_type": "markdown",
   "metadata": {
    "lc_cell_meme": {
     "current": "24b9b284-f2e6-11e7-93cb-0242ac130002",
     "history": [],
     "next": "24b9b39c-f2e6-11e7-93cb-0242ac130002",
     "previous": "24b9b176-f2e6-11e7-93cb-0242ac130002"
    }
   },
   "source": [
    "これには、`nc`(netcat)コマンドが便利です。"
   ]
  },
  {
   "cell_type": "code",
   "execution_count": 3,
   "metadata": {
    "deletable": false,
    "editable": false,
    "lc_cell_meme": {
     "current": "24b9b39c-f2e6-11e7-93cb-0242ac130002",
     "history": [],
     "next": "24b9b536-f2e6-11e7-93cb-0242ac130002",
     "previous": "24b9b284-f2e6-11e7-93cb-0242ac130002"
    },
    "pinned_outputs": [
     {
      "execution_count": 3,
      "outputs": [
       {
        "name": "stdout",
        "output_type": "stream",
        "text": "Connection to XXX.XXX.207.86 22 port [tcp/ssh] succeeded!\r\n"
       }
      ]
     }
    ],
    "run_through_control": {
     "frozen": true,
     "read_only": false
    }
   },
   "outputs": [
    {
     "name": "stdout",
     "output_type": "stream",
     "text": [
      "Connection to XXX.XXX.207.86 22 port [tcp/ssh] succeeded!\r\n"
     ]
    }
   ],
   "source": [
    "!nc -vz {target_host} 22"
   ]
  },
  {
   "cell_type": "markdown",
   "metadata": {
    "lc_cell_meme": {
     "current": "24b9b536-f2e6-11e7-93cb-0242ac130002",
     "history": [],
     "next": "24b9b9e6-f2e6-11e7-93cb-0242ac130002",
     "previous": "24b9b39c-f2e6-11e7-93cb-0242ac130002"
    }
   },
   "source": [
    "上記セルが失敗せず、`Out [3]` タブで示されるような内容が出力されれば成功です。\n",
    "\n",
    "このメッセージが `Connection refused`であったり、`Connection timed out`であれば、ネットワークやファイアウォールの設定の問題の可能性があります。また、設定対象ホストによっては、SSHサーバをport 22で動作させていないかもしれません。このような場合には、上記テストコマンドの `22`の部分を変更して試してみてください。"
   ]
  },
  {
   "cell_type": "markdown",
   "metadata": {
    "lc_cell_meme": {
     "current": "24b9b9e6-f2e6-11e7-93cb-0242ac130002",
     "history": [],
     "next": "24b9bb80-f2e6-11e7-93cb-0242ac130002",
     "previous": "24b9b536-f2e6-11e7-93cb-0242ac130002"
    }
   },
   "source": [
    "## 操作対象のマシンにPythonインタプリタがインストールされている\n",
    "\n",
    "Ansibleでは、操作対象のマシンにインストールされたPythonインタプリタを利用して様々な処理を実行します。\n"
   ]
  },
  {
   "cell_type": "markdown",
   "metadata": {
    "lc_cell_meme": {
     "current": "24b9bb80-f2e6-11e7-93cb-0242ac130002",
     "history": [],
     "next": "24b9bc98-f2e6-11e7-93cb-0242ac130002",
     "previous": "24b9b9e6-f2e6-11e7-93cb-0242ac130002"
    }
   },
   "source": [
    "\n",
    "利用するPythonインタプリタの情報を設定します。"
   ]
  },
  {
   "cell_type": "code",
   "execution_count": 34,
   "metadata": {
    "deletable": false,
    "editable": false,
    "lc_cell_meme": {
     "current": "24b9bc98-f2e6-11e7-93cb-0242ac130002",
     "history": [],
     "next": "24b9bda6-f2e6-11e7-93cb-0242ac130002",
     "previous": "24b9bb80-f2e6-11e7-93cb-0242ac130002"
    },
    "run_through_control": {
     "frozen": true,
     "read_only": false
    }
   },
   "outputs": [
    {
     "data": {
      "text/plain": [
       "'/usr/bin/python3'"
      ]
     },
     "execution_count": 34,
     "metadata": {},
     "output_type": "execute_result"
    }
   ],
   "source": [
    "# Ubuntu 16.04の標準的なインストールの場合は /usr/bin/python3 、\n",
    "# 他のOSでは /usr/bin/python だったりする・・・操作対象マシンの状況を確認してください\n",
    "target_python_interpreter = '/usr/bin/python3'\n",
    "target_python_interpreter"
   ]
  },
  {
   "cell_type": "markdown",
   "metadata": {
    "lc_cell_meme": {
     "current": "24b9bda6-f2e6-11e7-93cb-0242ac130002",
     "history": [],
     "next": "24b9beb4-f2e6-11e7-93cb-0242ac130002",
     "previous": "24b9bc98-f2e6-11e7-93cb-0242ac130002"
    }
   },
   "source": [
    "# SSH接続に関する設定\n",
    "\n",
    "まず、どのようなSSH設定が必要か、整理していきましょう。このチュートリアルでは、以下のようなケースを想定します。\n",
    "\n",
    "* SSHホストキーの確認\n",
    "* SSHログイン時の認証方式\n",
    "    * SSHログインをキーペアによって許可する環境\n",
    "    * SSHログインをパスワードによって許可する環境\n",
    "* SSH sudo (権限昇格)時のパスワードの有無"
   ]
  },
  {
   "cell_type": "markdown",
   "metadata": {
    "lc_cell_meme": {
     "current": "24b9beb4-f2e6-11e7-93cb-0242ac130002",
     "history": [],
     "next": "24b9bfc2-f2e6-11e7-93cb-0242ac130002",
     "previous": "24b9bda6-f2e6-11e7-93cb-0242ac130002"
    }
   },
   "source": [
    "## SSHホストキーの確認\n",
    "\n",
    "SSHする際に、Jupyter Notebookだと少し困るのが、Host keyの確認問い合わせ(yes/no)のような対話的なやり取りです。\n",
    "\n",
    "**実際の運用では、なりすましでないことの確認をスキップするというわけにはいきません**ので、多少面倒ではありますがJupyter Notebookが持つTerminal機能であらかじめ実行しておくことにします。"
   ]
  },
  {
   "attachments": {
    "image.png": {
     "image/png": "[encoded data removed]"
    }
   },
   "cell_type": "markdown",
   "metadata": {
    "lc_cell_meme": {
     "current": "24b9bfc2-f2e6-11e7-93cb-0242ac130002",
     "history": [],
     "next": "24b9c0d0-f2e6-11e7-93cb-0242ac130002",
     "previous": "24b9beb4-f2e6-11e7-93cb-0242ac130002"
    }
   },
   "source": [
    "まず、Jupyter Notebookの Terminal を開きます。ファイルツリーの [New] - [Terminal] からTerminal画面を開くことができます。\n",
    "\n",
    "![image.png](attachment:image.png)"
   ]
  },
  {
   "attachments": {
    "image.png": {
     "image/png": "[encoded data removed]"
    }
   },
   "cell_type": "markdown",
   "metadata": {
    "lc_cell_meme": {
     "current": "24b9c0d0-f2e6-11e7-93cb-0242ac130002",
     "history": [],
     "next": "24b9c1de-f2e6-11e7-93cb-0242ac130002",
     "previous": "24b9bfc2-f2e6-11e7-93cb-0242ac130002"
    }
   },
   "source": [
    "Terminal画面を開いたら、 `ssh {target_host}` ({target_host}は操作対象のIPアドレス・ドメイン名に読み替え) を実行します。あとは、通常のSSH接続と同様に、Host keyのFingerprintを確認し、`yes`を入力します。\n",
    "\n",
    "これにより、`known_hosts`ファイルに受け入れを確認したHost keyの情報が保存され、次回ssh時からは問い合わせがされなくなります。\n",
    "\n",
    "![image.png](attachment:image.png)"
   ]
  },
  {
   "cell_type": "markdown",
   "metadata": {
    "lc_cell_meme": {
     "current": "24b9c1de-f2e6-11e7-93cb-0242ac130002",
     "history": [],
     "next": "24b9c2f6-f2e6-11e7-93cb-0242ac130002",
     "previous": "24b9c0d0-f2e6-11e7-93cb-0242ac130002"
    }
   },
   "source": [
    "このようにしてsshのhost keyの受け入れをおこなったら、host keyが受け入れられたことを確認してみましょう。\n",
    "\n",
    "以下のセルを実行してください。host keyが受け入れられている場合、`Out [6]`のような結果になるはずです。\n",
    "\n",
    "> host keyが受け入れられていない場合は、 `Out [9]`のように`Are you sure you want to continue connecting (yes/no)?`と出力され実行完了しない(水色のまま)となります。\n",
    "> \n",
    "> このような場合は、Jupyter Notebookのツールバーの停止( <i class=\"fa-stop fa\"></i> )ボタンで中断し、上記のhost key受け入れ手順を再度実施してください。"
   ]
  },
  {
   "cell_type": "code",
   "execution_count": 10,
   "metadata": {
    "deletable": false,
    "editable": false,
    "lc_cell_meme": {
     "current": "24b9c2f6-f2e6-11e7-93cb-0242ac130002",
     "history": [],
     "next": "24b9c3fa-f2e6-11e7-93cb-0242ac130002",
     "previous": "24b9c1de-f2e6-11e7-93cb-0242ac130002"
    },
    "pinned_outputs": [
     {
      "execution_count": 6,
      "outputs": [
       {
        "name": "stdout",
        "output_type": "stream",
        "text": "Permission denied (publickey).\r\r\n"
       }
      ]
     },
     {
      "execution_count": 9,
      "outputs": [
       {
        "name": "stdout",
        "output_type": "stream",
        "text": "The authenticity of host 'XXX.XXX.207.86 (XXX.XXX.207.86)' can't be established.\nECDSA key fingerprint is 80:48:19:e9:b4:3c:97:ec:7a:8f:d8:67:d6:31:e3:78.\nAre you sure you want to continue connecting (yes/no)? ^C\n"
       },
       {
        "ename": "RuntimeError",
        "evalue": "Unexpected exit code: -2",
        "output_type": "error",
        "traceback": [
         "\u001b[0;31m---------------------------------------------------------------------------\u001b[0m",
         "\u001b[0;31mRuntimeError\u001b[0m                              Traceback (most recent call last)",
         "\u001b[0;32m<ipython-input-18-522e71cdcaae>\u001b[0m in \u001b[0;36m<module>\u001b[0;34m()\u001b[0m\n\u001b[0;32m----> 1\u001b[0;31m \u001b[0mget_ipython\u001b[0m\u001b[0;34m(\u001b[0m\u001b[0;34m)\u001b[0m\u001b[0;34m.\u001b[0m\u001b[0msystem\u001b[0m\u001b[0;34m(\u001b[0m\u001b[0;34m'ssh {target_host} || exit 0'\u001b[0m\u001b[0;34m)\u001b[0m\u001b[0;34m\u001b[0m\u001b[0m\n\u001b[0m",
         "\u001b[0;32m~/.ipython/profile_default/startup/10-custom-get_ipython_system.py\u001b[0m in \u001b[0;36m<lambda>\u001b[0;34m(x)\u001b[0m\n\u001b[1;32m      5\u001b[0m \u001b[0;34m\u001b[0m\u001b[0m\n\u001b[1;32m      6\u001b[0m \u001b[0msave_get_ipython_system\u001b[0m \u001b[0;34m=\u001b[0m \u001b[0mget_ipython\u001b[0m\u001b[0;34m(\u001b[0m\u001b[0;34m)\u001b[0m\u001b[0;34m.\u001b[0m\u001b[0msystem\u001b[0m\u001b[0;34m\u001b[0m\u001b[0m\n\u001b[0;32m----> 7\u001b[0;31m \u001b[0mget_ipython\u001b[0m\u001b[0;34m(\u001b[0m\u001b[0;34m)\u001b[0m\u001b[0;34m.\u001b[0m\u001b[0msystem\u001b[0m \u001b[0;34m=\u001b[0m \u001b[0;32mlambda\u001b[0m \u001b[0mx\u001b[0m\u001b[0;34m:\u001b[0m \u001b[0mget_ipython_system\u001b[0m\u001b[0;34m(\u001b[0m\u001b[0mx\u001b[0m\u001b[0;34m)\u001b[0m\u001b[0;34m\u001b[0m\u001b[0m\n\u001b[0m\u001b[1;32m      8\u001b[0m \u001b[0;34m\u001b[0m\u001b[0m\n\u001b[1;32m      9\u001b[0m \u001b[0;31m# interactiveshell.py's system_piped() function comment saids:\u001b[0m\u001b[0;34m\u001b[0m\u001b[0;34m\u001b[0m\u001b[0m\n",
         "\u001b[0;32m~/.ipython/profile_default/startup/10-custom-get_ipython_system.py\u001b[0m in \u001b[0;36mget_ipython_system\u001b[0;34m(cmd)\u001b[0m\n\u001b[1;32m     13\u001b[0m     \u001b[0msave_get_ipython_system\u001b[0m\u001b[0;34m(\u001b[0m\u001b[0mcmd\u001b[0m\u001b[0;34m)\u001b[0m\u001b[0;34m\u001b[0m\u001b[0m\n\u001b[1;32m     14\u001b[0m     \u001b[0;32mif\u001b[0m \u001b[0mget_ipython\u001b[0m\u001b[0;34m(\u001b[0m\u001b[0;34m)\u001b[0m\u001b[0;34m.\u001b[0m\u001b[0muser_ns\u001b[0m\u001b[0;34m[\u001b[0m\u001b[0;34m'_exit_code'\u001b[0m\u001b[0;34m]\u001b[0m \u001b[0;34m!=\u001b[0m \u001b[0;36m0\u001b[0m\u001b[0;34m:\u001b[0m\u001b[0;34m\u001b[0m\u001b[0m\n\u001b[0;32m---> 15\u001b[0;31m         \u001b[0;32mraise\u001b[0m \u001b[0mRuntimeError\u001b[0m\u001b[0;34m(\u001b[0m\u001b[0;34m'Unexpected exit code: %d'\u001b[0m \u001b[0;34m%\u001b[0m \u001b[0mget_ipython\u001b[0m\u001b[0;34m(\u001b[0m\u001b[0;34m)\u001b[0m\u001b[0;34m.\u001b[0m\u001b[0muser_ns\u001b[0m\u001b[0;34m[\u001b[0m\u001b[0;34m'_exit_code'\u001b[0m\u001b[0;34m]\u001b[0m\u001b[0;34m)\u001b[0m\u001b[0;34m\u001b[0m\u001b[0m\n\u001b[0m",
         "\u001b[0;31mRuntimeError\u001b[0m: Unexpected exit code: -2"
        ]
       }
      ]
     }
    ],
    "run_through_control": {
     "frozen": true,
     "read_only": false
    }
   },
   "outputs": [
    {
     "name": "stdout",
     "output_type": "stream",
     "text": [
      "Permission denied (publickey).\r",
      "\r\n"
     ]
    }
   ],
   "source": [
    "!ssh {target_host} || exit 0"
   ]
  },
  {
   "cell_type": "markdown",
   "metadata": {
    "lc_cell_meme": {
     "current": "24b9c3fa-f2e6-11e7-93cb-0242ac130002",
     "history": [],
     "next": "24b9c512-f2e6-11e7-93cb-0242ac130002",
     "previous": "24b9c2f6-f2e6-11e7-93cb-0242ac130002"
    }
   },
   "source": [
    "## SSHログイン時の認証方式\n",
    "\n",
    "Host keyを確認して操作対象のマシンが正当な(想定した)マシンであることを確認したら、このマシンからログインできるよう、認証情報を設定します。"
   ]
  },
  {
   "cell_type": "markdown",
   "metadata": {
    "lc_cell_meme": {
     "current": "24b9c512-f2e6-11e7-93cb-0242ac130002",
     "history": [],
     "next": "24b9c62a-f2e6-11e7-93cb-0242ac130002",
     "previous": "24b9c3fa-f2e6-11e7-93cb-0242ac130002"
    }
   },
   "source": [
    "まず、ここから先の動作確認のため、SSHログインする際のユーザ名を変数として設定しておきます。"
   ]
  },
  {
   "cell_type": "code",
   "execution_count": 11,
   "metadata": {
    "deletable": false,
    "editable": false,
    "lc_cell_meme": {
     "current": "24b9c62a-f2e6-11e7-93cb-0242ac130002",
     "history": [],
     "next": "24b9c738-f2e6-11e7-93cb-0242ac130002",
     "previous": "24b9c512-f2e6-11e7-93cb-0242ac130002"
    },
    "run_through_control": {
     "frozen": true,
     "read_only": false
    }
   },
   "outputs": [
    {
     "data": {
      "text/plain": [
       "'yazawa'"
      ]
     },
     "execution_count": 11,
     "metadata": {},
     "output_type": "execute_result"
    }
   ],
   "source": [
    "ssh_user = 'yazawa'\n",
    "ssh_user"
   ]
  },
  {
   "cell_type": "markdown",
   "metadata": {
    "lc_cell_meme": {
     "current": "24b9c738-f2e6-11e7-93cb-0242ac130002",
     "history": [],
     "next": "24b9c850-f2e6-11e7-93cb-0242ac130002",
     "previous": "24b9c62a-f2e6-11e7-93cb-0242ac130002"
    }
   },
   "source": [
    "また、ここから先は動作確認にAnsibleの実行を行います。しかしながら、*Ansibleの設定* 実施までは、一時ファイルに各設定ファイルを作成し、動作確認をしていきます。"
   ]
  },
  {
   "cell_type": "code",
   "execution_count": 12,
   "metadata": {
    "deletable": false,
    "editable": false,
    "lc_cell_meme": {
     "current": "24b9c850-f2e6-11e7-93cb-0242ac130002",
     "history": [],
     "next": "24b9c95e-f2e6-11e7-93cb-0242ac130002",
     "previous": "24b9c738-f2e6-11e7-93cb-0242ac130002"
    },
    "run_through_control": {
     "frozen": true,
     "read_only": false
    }
   },
   "outputs": [
    {
     "data": {
      "text/plain": [
       "'/tmp/tmpc1hqa30_'"
      ]
     },
     "execution_count": 12,
     "metadata": {},
     "output_type": "execute_result"
    }
   ],
   "source": [
    "import tempfile\n",
    "import os\n",
    "work_dir = tempfile.mkdtemp()\n",
    "work_dir"
   ]
  },
  {
   "cell_type": "markdown",
   "metadata": {
    "lc_cell_meme": {
     "current": "24b9c95e-f2e6-11e7-93cb-0242ac130002",
     "history": [],
     "next": "24b9ca6c-f2e6-11e7-93cb-0242ac130002",
     "previous": "24b9c850-f2e6-11e7-93cb-0242ac130002"
    }
   },
   "source": [
    "### キーペアによる認証\n",
    "\n",
    "Jupyter Notebook環境内に秘密鍵と公開鍵のペアを作成し、このうち公開鍵を操作対象サーバに設定することで、秘密鍵によるアクセスを可能にします。"
   ]
  },
  {
   "cell_type": "markdown",
   "metadata": {
    "lc_cell_meme": {
     "current": "24b9ca6c-f2e6-11e7-93cb-0242ac130002",
     "history": [],
     "next": "24b9cb7a-f2e6-11e7-93cb-0242ac130002",
     "previous": "24b9c95e-f2e6-11e7-93cb-0242ac130002"
    }
   },
   "source": [
    "秘密鍵のパスを設定します。公開鍵のパスは `{local_priv_key}.pub` になります。\n",
    "\n",
    "> ここでファイルを作成している `/home/bit_kun/` は、コンテナの削除によりリセットされてしまうディレクトリです。永続化したい場合は、このパスに永続化した(Jupyter Notebook外部からは見えない)ディレクトリを指定するようにしてください。"
   ]
  },
  {
   "cell_type": "code",
   "execution_count": 15,
   "metadata": {
    "deletable": false,
    "editable": false,
    "lc_cell_meme": {
     "current": "24b9cb7a-f2e6-11e7-93cb-0242ac130002",
     "history": [],
     "next": "24b9cc88-f2e6-11e7-93cb-0242ac130002",
     "previous": "24b9ca6c-f2e6-11e7-93cb-0242ac130002"
    },
    "run_through_control": {
     "frozen": true,
     "read_only": false
    }
   },
   "outputs": [
    {
     "data": {
      "text/plain": [
       "'/home/bit_kun/.ssh/lc_id_rsa'"
      ]
     },
     "execution_count": 15,
     "metadata": {},
     "output_type": "execute_result"
    }
   ],
   "source": [
    "local_priv_key = '/home/bit_kun/.ssh/lc_id_rsa'\n",
    "local_priv_key"
   ]
  },
  {
   "cell_type": "markdown",
   "metadata": {
    "lc_cell_meme": {
     "current": "24b9cc88-f2e6-11e7-93cb-0242ac130002",
     "history": [],
     "next": "24b9cd96-f2e6-11e7-93cb-0242ac130002",
     "previous": "24b9cb7a-f2e6-11e7-93cb-0242ac130002"
    }
   },
   "source": [
    "キーペアが存在しない場合は、 `ssh-keygen` コマンドにより生成します。"
   ]
  },
  {
   "cell_type": "code",
   "execution_count": 21,
   "metadata": {
    "deletable": false,
    "editable": false,
    "lc_cell_meme": {
     "current": "24b9cd96-f2e6-11e7-93cb-0242ac130002",
     "history": [],
     "next": "24b9cea4-f2e6-11e7-93cb-0242ac130002",
     "previous": "24b9cc88-f2e6-11e7-93cb-0242ac130002"
    },
    "run_through_control": {
     "frozen": true,
     "read_only": false
    }
   },
   "outputs": [
    {
     "name": "stdout",
     "output_type": "stream",
     "text": [
      "Generating public/private rsa key pair.\n",
      "Your identification has been saved in /home/bit_kun/.ssh/lc_id_rsa.\n",
      "Your public key has been saved in /home/bit_kun/.ssh/lc_id_rsa.pub.\n",
      "The key fingerprint is:\n",
      "cb:88:c7:6f:04:9e:d4:83:6b:a1:6b:27:03:f9:2c:bd bit_kun@notebook\n",
      "The key's randomart image is:\n",
      "+---[RSA 4096]----+\n",
      "|                 |\n",
      "|                 |\n",
      "|       o         |\n",
      "|      = o        |\n",
      "|   . + =S.       |\n",
      "|  o .o=o..       |\n",
      "|   =.o+.o        |\n",
      "|  . O....        |\n",
      "|   oE= ..        |\n",
      "+-----------------+\n"
     ]
    }
   ],
   "source": [
    "if not os.path.exists(local_priv_key):\n",
    "    # ssh-keygen のパラメータは運用する環境によって適宜変更すること\n",
    "    !ssh-keygen -t rsa -b 4096 -C 'bit_kun@notebook' -P '' -f {local_priv_key}"
   ]
  },
  {
   "cell_type": "markdown",
   "metadata": {
    "lc_cell_meme": {
     "current": "24b9cea4-f2e6-11e7-93cb-0242ac130002",
     "history": [],
     "next": "24b9cfbc-f2e6-11e7-93cb-0242ac130002",
     "previous": "24b9cd96-f2e6-11e7-93cb-0242ac130002"
    }
   },
   "source": [
    "公開鍵の内容は以下のセルのようになります。"
   ]
  },
  {
   "cell_type": "code",
   "execution_count": 22,
   "metadata": {
    "deletable": false,
    "editable": false,
    "lc_cell_meme": {
     "current": "24b9cfbc-f2e6-11e7-93cb-0242ac130002",
     "history": [],
     "next": "24b9d0ca-f2e6-11e7-93cb-0242ac130002",
     "previous": "24b9cea4-f2e6-11e7-93cb-0242ac130002"
    },
    "run_through_control": {
     "frozen": true,
     "read_only": false
    }
   },
   "outputs": [
    {
     "name": "stdout",
     "output_type": "stream",
     "text": [
      "ssh-rsa AAAAB3NzaC1yc2EAAAADAQABAAACAQCtgS+X04i2sU04m8wG+ul/Qyv9toVj9etI8DsQJBh7RAEj3AmES0d3T3cSigoQRY31MPVVnjDXaivJTWTDjFGO749bkt958VfdWUeKifxfzOuZifxA2rIPk4HxjqueynyHTchSTwGCCrIO8ylmzMzppkGR65AT1/xb6DkluTKi+gj7f4uLB53mNYpA1It5QOHZa9MWBZCUKrTw75XObCIAMRNWMcyBi1WA//qhHsVuVmlz/SujpbFYbyTl2p/I8VUdI2VnCZ/ldbqBOEOQg+/YKi9pzQPRXtM4ncli4cLpQ7RDbGFWb9nLN7CJS4ixtXN4x9G0tESDzSpeA4Wy88tfYIwQQwzi53a61rz7LJWn2Dbk3fMzFh2jL0UOQqV/StDCwvHiKQngmjpodO4Zbzl6wnYgontmvEoTl832NdaK+36pjw8N1HcXVwLP/oUFrgUXcl9dzia/Qr/fnWHLt7JlOevaUbEK4rtck9txURJfyPJ5b21nzXXCFsvE1yNsZpqIpqNhCjFF40Gvr+AD/GLhd+QBdcplwa4GMHcUYQPOUB42AdYJioAe2M01nQTGNG+4U6ZoYFiXlnWSg33rKh2FscQUGoFnljTaUKRkU+Tvm2sOrduk8qJ7SGoU2XRcq4lr1I6VjYDdTDsTqizs3rYTZtYZoeDTw8Khaum49OsoTw== bit_kun@notebook\r\n"
     ]
    }
   ],
   "source": [
    "!cat {local_priv_key}.pub"
   ]
  },
  {
   "cell_type": "markdown",
   "metadata": {
    "lc_cell_meme": {
     "current": "24b9d0ca-f2e6-11e7-93cb-0242ac130002",
     "history": [],
     "next": "24b9d1d8-f2e6-11e7-93cb-0242ac130002",
     "previous": "24b9cfbc-f2e6-11e7-93cb-0242ac130002"
    }
   },
   "source": [
    "上記の出力の内容を、操作対象ホストの `~/.ssh/authorized_keys` に追記します。一般的な環境であれば、{ssh_user}でログインした後、**以下のセル**に出力されたコマンドを実行すればOKです。"
   ]
  },
  {
   "cell_type": "code",
   "execution_count": 23,
   "metadata": {
    "deletable": false,
    "editable": false,
    "lc_cell_meme": {
     "current": "24b9d1d8-f2e6-11e7-93cb-0242ac130002",
     "history": [],
     "next": "24b9d2f0-f2e6-11e7-93cb-0242ac130002",
     "previous": "24b9d0ca-f2e6-11e7-93cb-0242ac130002"
    },
    "run_through_control": {
     "frozen": true,
     "read_only": false
    }
   },
   "outputs": [
    {
     "name": "stdout",
     "output_type": "stream",
     "text": [
      "echo 'ssh-rsa AAAAB3NzaC1yc2EAAAADAQABAAACAQCtgS+X04i2sU04m8wG+ul/Qyv9toVj9etI8DsQJBh7RAEj3AmES0d3T3cSigoQRY31MPVVnjDXaivJTWTDjFGO749bkt958VfdWUeKifxfzOuZifxA2rIPk4HxjqueynyHTchSTwGCCrIO8ylmzMzppkGR65AT1/xb6DkluTKi+gj7f4uLB53mNYpA1It5QOHZa9MWBZCUKrTw75XObCIAMRNWMcyBi1WA//qhHsVuVmlz/SujpbFYbyTl2p/I8VUdI2VnCZ/ldbqBOEOQg+/YKi9pzQPRXtM4ncli4cLpQ7RDbGFWb9nLN7CJS4ixtXN4x9G0tESDzSpeA4Wy88tfYIwQQwzi53a61rz7LJWn2Dbk3fMzFh2jL0UOQqV/StDCwvHiKQngmjpodO4Zbzl6wnYgontmvEoTl832NdaK+36pjw8N1HcXVwLP/oUFrgUXcl9dzia/Qr/fnWHLt7JlOevaUbEK4rtck9txURJfyPJ5b21nzXXCFsvE1yNsZpqIpqNhCjFF40Gvr+AD/GLhd+QBdcplwa4GMHcUYQPOUB42AdYJioAe2M01nQTGNG+4U6ZoYFiXlnWSg33rKh2FscQUGoFnljTaUKRkU+Tvm2sOrduk8qJ7SGoU2XRcq4lr1I6VjYDdTDsTqizs3rYTZtYZoeDTw8Khaum49OsoTw== bit_kun@notebook' >> ~/.ssh/authorized_keys\n"
     ]
    }
   ],
   "source": [
    "pub_key = None\n",
    "with open(local_priv_key + '.pub', 'r') as f:\n",
    "    pub_key = f.readlines()[0].strip()\n",
    "print(\"echo '{}' >> ~/.ssh/authorized_keys\".format(pub_key))"
   ]
  },
  {
   "cell_type": "markdown",
   "metadata": {
    "lc_cell_meme": {
     "current": "24b9d2f0-f2e6-11e7-93cb-0242ac130002",
     "history": [],
     "next": "24b9d3fe-f2e6-11e7-93cb-0242ac130002",
     "previous": "24b9d1d8-f2e6-11e7-93cb-0242ac130002"
    }
   },
   "source": [
    "authorized_keysを登録したら、ansibleコマンドによりアクセスを試みます。\n",
    "\n",
    "まず、一時ディレクトリの `hosts` ファイルに、Ansibleが必要とする情報を設定します。"
   ]
  },
  {
   "cell_type": "code",
   "execution_count": 63,
   "metadata": {
    "deletable": false,
    "editable": false,
    "lc_cell_meme": {
     "current": "24b9d3fe-f2e6-11e7-93cb-0242ac130002",
     "history": [],
     "next": "24b9d502-f2e6-11e7-93cb-0242ac130002",
     "previous": "24b9d2f0-f2e6-11e7-93cb-0242ac130002"
    },
    "run_through_control": {
     "frozen": true,
     "read_only": false
    }
   },
   "outputs": [
    {
     "name": "stdout",
     "output_type": "stream",
     "text": [
      "XXX.XXX.207.86 ansible_ssh_user=yazawa ansible_python_interpreter=/usr/bin/python3 ansible_ssh_private_key_file=/home/bit_kun/.ssh/lc_id_rsa"
     ]
    }
   ],
   "source": [
    "with open(os.path.join(work_dir, 'hosts'), 'w') as f:\n",
    "    f.write(('{host} ' +\n",
    "             'ansible_ssh_user={user} ' +\n",
    "             'ansible_python_interpreter={python_interpreter} ' +\n",
    "             'ansible_ssh_private_key_file={priv_key}').format(host=target_host,\n",
    "                                                               user=ssh_user,\n",
    "                                                               priv_key=local_priv_key,\n",
    "                                                               python_interpreter=target_python_interpreter))\n",
    "!cat {work_dir}/hosts"
   ]
  },
  {
   "cell_type": "markdown",
   "metadata": {
    "lc_cell_meme": {
     "current": "24b9d502-f2e6-11e7-93cb-0242ac130002",
     "history": [],
     "next": "24b9d61a-f2e6-11e7-93cb-0242ac130002",
     "previous": "24b9d3fe-f2e6-11e7-93cb-0242ac130002"
    }
   },
   "source": [
    "Ansibleの `ping` モジュールを使って疎通確認をします。\n",
    "\n",
    "`ping` モジュールは、AnsibleのInventory等で定義されたSSH接続情報を用いて、疎通確認、Pythonの動作確認を実施します。`Out [33]`のようにこのコマンドの実行が成功すれば、SSHログインのための認証情報設定は成功です。\n",
    "\n",
    "> `Out [26]`のようになる場合は、先に示した操作対象のマシンの `.ssh/authorized_keys` への公開鍵設定がうまくいっていないか、`ssh_user`変数が正しく設定されていない可能性があります。\n",
    ">\n",
    "> `Out [30]`のようになる場合は、前提条件で示したPythonインタプリタが正しく設定されていない可能性があります。"
   ]
  },
  {
   "cell_type": "code",
   "execution_count": 33,
   "metadata": {
    "deletable": false,
    "editable": false,
    "lc_cell_meme": {
     "current": "24b9d61a-f2e6-11e7-93cb-0242ac130002",
     "history": [],
     "next": "24b9d73c-f2e6-11e7-93cb-0242ac130002",
     "previous": "24b9d502-f2e6-11e7-93cb-0242ac130002"
    },
    "pinned_outputs": [
     {
      "execution_count": 26,
      "outputs": [
       {
        "name": "stdout",
        "output_type": "stream",
        "text": "\u001b[1;31mXXX.XXX.207.86 | UNREACHABLE! => {\u001b[0m\r\n\u001b[1;31m    \"changed\": false, \u001b[0m\r\n\u001b[1;31m    \"msg\": \"Failed to connect to the host via ssh: Permission denied (publickey).\\r\\n\", \u001b[0m\r\n\u001b[1;31m    \"unreachable\": true\u001b[0m\r\n\u001b[1;31m}\u001b[0m\r\n"
       },
       {
        "ename": "RuntimeError",
        "evalue": "Unexpected exit code: 4",
        "output_type": "error",
        "traceback": [
         "\u001b[0;31m---------------------------------------------------------------------------\u001b[0m",
         "\u001b[0;31mRuntimeError\u001b[0m                              Traceback (most recent call last)",
         "\u001b[0;32m<ipython-input-52-afac405f1e96>\u001b[0m in \u001b[0;36m<module>\u001b[0;34m()\u001b[0m\n\u001b[0;32m----> 1\u001b[0;31m \u001b[0mget_ipython\u001b[0m\u001b[0;34m(\u001b[0m\u001b[0;34m)\u001b[0m\u001b[0;34m.\u001b[0m\u001b[0msystem\u001b[0m\u001b[0;34m(\u001b[0m\u001b[0;34m'ansible -i {work_dir}/hosts -m ping all'\u001b[0m\u001b[0;34m)\u001b[0m\u001b[0;34m\u001b[0m\u001b[0m\n\u001b[0m",
         "\u001b[0;32m~/.ipython/profile_default/startup/10-custom-get_ipython_system.py\u001b[0m in \u001b[0;36m<lambda>\u001b[0;34m(x)\u001b[0m\n\u001b[1;32m      5\u001b[0m \u001b[0;34m\u001b[0m\u001b[0m\n\u001b[1;32m      6\u001b[0m \u001b[0msave_get_ipython_system\u001b[0m \u001b[0;34m=\u001b[0m \u001b[0mget_ipython\u001b[0m\u001b[0;34m(\u001b[0m\u001b[0;34m)\u001b[0m\u001b[0;34m.\u001b[0m\u001b[0msystem\u001b[0m\u001b[0;34m\u001b[0m\u001b[0m\n\u001b[0;32m----> 7\u001b[0;31m \u001b[0mget_ipython\u001b[0m\u001b[0;34m(\u001b[0m\u001b[0;34m)\u001b[0m\u001b[0;34m.\u001b[0m\u001b[0msystem\u001b[0m \u001b[0;34m=\u001b[0m \u001b[0;32mlambda\u001b[0m \u001b[0mx\u001b[0m\u001b[0;34m:\u001b[0m \u001b[0mget_ipython_system\u001b[0m\u001b[0;34m(\u001b[0m\u001b[0mx\u001b[0m\u001b[0;34m)\u001b[0m\u001b[0;34m\u001b[0m\u001b[0m\n\u001b[0m\u001b[1;32m      8\u001b[0m \u001b[0;34m\u001b[0m\u001b[0m\n\u001b[1;32m      9\u001b[0m \u001b[0;31m# interactiveshell.py's system_piped() function comment saids:\u001b[0m\u001b[0;34m\u001b[0m\u001b[0;34m\u001b[0m\u001b[0m\n",
         "\u001b[0;32m~/.ipython/profile_default/startup/10-custom-get_ipython_system.py\u001b[0m in \u001b[0;36mget_ipython_system\u001b[0;34m(cmd)\u001b[0m\n\u001b[1;32m     13\u001b[0m     \u001b[0msave_get_ipython_system\u001b[0m\u001b[0;34m(\u001b[0m\u001b[0mcmd\u001b[0m\u001b[0;34m)\u001b[0m\u001b[0;34m\u001b[0m\u001b[0m\n\u001b[1;32m     14\u001b[0m     \u001b[0;32mif\u001b[0m \u001b[0mget_ipython\u001b[0m\u001b[0;34m(\u001b[0m\u001b[0;34m)\u001b[0m\u001b[0;34m.\u001b[0m\u001b[0muser_ns\u001b[0m\u001b[0;34m[\u001b[0m\u001b[0;34m'_exit_code'\u001b[0m\u001b[0;34m]\u001b[0m \u001b[0;34m!=\u001b[0m \u001b[0;36m0\u001b[0m\u001b[0;34m:\u001b[0m\u001b[0;34m\u001b[0m\u001b[0m\n\u001b[0;32m---> 15\u001b[0;31m         \u001b[0;32mraise\u001b[0m \u001b[0mRuntimeError\u001b[0m\u001b[0;34m(\u001b[0m\u001b[0;34m'Unexpected exit code: %d'\u001b[0m \u001b[0;34m%\u001b[0m \u001b[0mget_ipython\u001b[0m\u001b[0;34m(\u001b[0m\u001b[0;34m)\u001b[0m\u001b[0;34m.\u001b[0m\u001b[0muser_ns\u001b[0m\u001b[0;34m[\u001b[0m\u001b[0;34m'_exit_code'\u001b[0m\u001b[0;34m]\u001b[0m\u001b[0;34m)\u001b[0m\u001b[0;34m\u001b[0m\u001b[0m\n\u001b[0m",
         "\u001b[0;31mRuntimeError\u001b[0m: Unexpected exit code: 4"
        ]
       }
      ]
     },
     {
      "execution_count": 30,
      "outputs": [
       {
        "name": "stdout",
        "output_type": "stream",
        "text": "\u001b[0;31mXXX.XXX.207.86 | FAILED! => {\u001b[0m\r\n\u001b[0;31m    \"changed\": false, \u001b[0m\r\n\u001b[0;31m    \"failed\": true, \u001b[0m\r\n\u001b[0;31m    \"module_stderr\": \"Shared connection to XXX.XXX.207.86 closed.\\r\\n\", \u001b[0m\r\n\u001b[0;31m    \"module_stdout\": \"/bin/sh: 1: /usr/bin/python: not found\\r\\n\", \u001b[0m\r\n\u001b[0;31m    \"msg\": \"MODULE FAILURE\", \u001b[0m\r\n\u001b[0;31m    \"rc\": 0\u001b[0m\r\n\u001b[0;31m}\u001b[0m\r\n"
       },
       {
        "ename": "RuntimeError",
        "evalue": "Unexpected exit code: 2",
        "output_type": "error",
        "traceback": [
         "\u001b[0;31m---------------------------------------------------------------------------\u001b[0m",
         "\u001b[0;31mRuntimeError\u001b[0m                              Traceback (most recent call last)",
         "\u001b[0;32m<ipython-input-60-afac405f1e96>\u001b[0m in \u001b[0;36m<module>\u001b[0;34m()\u001b[0m\n\u001b[0;32m----> 1\u001b[0;31m \u001b[0mget_ipython\u001b[0m\u001b[0;34m(\u001b[0m\u001b[0;34m)\u001b[0m\u001b[0;34m.\u001b[0m\u001b[0msystem\u001b[0m\u001b[0;34m(\u001b[0m\u001b[0;34m'ansible -i {work_dir}/hosts -m ping all'\u001b[0m\u001b[0;34m)\u001b[0m\u001b[0;34m\u001b[0m\u001b[0m\n\u001b[0m",
         "\u001b[0;32m~/.ipython/profile_default/startup/10-custom-get_ipython_system.py\u001b[0m in \u001b[0;36m<lambda>\u001b[0;34m(x)\u001b[0m\n\u001b[1;32m      5\u001b[0m \u001b[0;34m\u001b[0m\u001b[0m\n\u001b[1;32m      6\u001b[0m \u001b[0msave_get_ipython_system\u001b[0m \u001b[0;34m=\u001b[0m \u001b[0mget_ipython\u001b[0m\u001b[0;34m(\u001b[0m\u001b[0;34m)\u001b[0m\u001b[0;34m.\u001b[0m\u001b[0msystem\u001b[0m\u001b[0;34m\u001b[0m\u001b[0m\n\u001b[0;32m----> 7\u001b[0;31m \u001b[0mget_ipython\u001b[0m\u001b[0;34m(\u001b[0m\u001b[0;34m)\u001b[0m\u001b[0;34m.\u001b[0m\u001b[0msystem\u001b[0m \u001b[0;34m=\u001b[0m \u001b[0;32mlambda\u001b[0m \u001b[0mx\u001b[0m\u001b[0;34m:\u001b[0m \u001b[0mget_ipython_system\u001b[0m\u001b[0;34m(\u001b[0m\u001b[0mx\u001b[0m\u001b[0;34m)\u001b[0m\u001b[0;34m\u001b[0m\u001b[0m\n\u001b[0m\u001b[1;32m      8\u001b[0m \u001b[0;34m\u001b[0m\u001b[0m\n\u001b[1;32m      9\u001b[0m \u001b[0;31m# interactiveshell.py's system_piped() function comment saids:\u001b[0m\u001b[0;34m\u001b[0m\u001b[0;34m\u001b[0m\u001b[0m\n",
         "\u001b[0;32m~/.ipython/profile_default/startup/10-custom-get_ipython_system.py\u001b[0m in \u001b[0;36mget_ipython_system\u001b[0;34m(cmd)\u001b[0m\n\u001b[1;32m     13\u001b[0m     \u001b[0msave_get_ipython_system\u001b[0m\u001b[0;34m(\u001b[0m\u001b[0mcmd\u001b[0m\u001b[0;34m)\u001b[0m\u001b[0;34m\u001b[0m\u001b[0m\n\u001b[1;32m     14\u001b[0m     \u001b[0;32mif\u001b[0m \u001b[0mget_ipython\u001b[0m\u001b[0;34m(\u001b[0m\u001b[0;34m)\u001b[0m\u001b[0;34m.\u001b[0m\u001b[0muser_ns\u001b[0m\u001b[0;34m[\u001b[0m\u001b[0;34m'_exit_code'\u001b[0m\u001b[0;34m]\u001b[0m \u001b[0;34m!=\u001b[0m \u001b[0;36m0\u001b[0m\u001b[0;34m:\u001b[0m\u001b[0;34m\u001b[0m\u001b[0m\n\u001b[0;32m---> 15\u001b[0;31m         \u001b[0;32mraise\u001b[0m \u001b[0mRuntimeError\u001b[0m\u001b[0;34m(\u001b[0m\u001b[0;34m'Unexpected exit code: %d'\u001b[0m \u001b[0;34m%\u001b[0m \u001b[0mget_ipython\u001b[0m\u001b[0;34m(\u001b[0m\u001b[0;34m)\u001b[0m\u001b[0;34m.\u001b[0m\u001b[0muser_ns\u001b[0m\u001b[0;34m[\u001b[0m\u001b[0;34m'_exit_code'\u001b[0m\u001b[0;34m]\u001b[0m\u001b[0;34m)\u001b[0m\u001b[0;34m\u001b[0m\u001b[0m\n\u001b[0m",
         "\u001b[0;31mRuntimeError\u001b[0m: Unexpected exit code: 2"
        ]
       }
      ]
     },
     {
      "execution_count": 33,
      "outputs": [
       {
        "name": "stdout",
        "output_type": "stream",
        "text": "\u001b[0;32mXXX.XXX.207.86 | SUCCESS => {\u001b[0m\r\n\u001b[0;32m    \"changed\": false, \u001b[0m\r\n\u001b[0;32m    \"failed\": false, \u001b[0m\r\n\u001b[0;32m    \"ping\": \"pong\"\u001b[0m\r\n\u001b[0;32m}\u001b[0m\r\n"
       }
      ]
     }
    ],
    "run_through_control": {
     "frozen": true,
     "read_only": false
    }
   },
   "outputs": [
    {
     "name": "stdout",
     "output_type": "stream",
     "text": [
      "\u001b[0;32mXXX.XXX.207.86 | SUCCESS => {\u001b[0m\r\n",
      "\u001b[0;32m    \"changed\": false, \u001b[0m\r\n",
      "\u001b[0;32m    \"failed\": false, \u001b[0m\r\n",
      "\u001b[0;32m    \"ping\": \"pong\"\u001b[0m\r\n",
      "\u001b[0;32m}\u001b[0m\r\n"
     ]
    }
   ],
   "source": [
    "!ansible -i {work_dir}/hosts -m ping all"
   ]
  },
  {
   "cell_type": "markdown",
   "metadata": {
    "lc_cell_meme": {
     "current": "24b9d73c-f2e6-11e7-93cb-0242ac130002",
     "history": [],
     "next": "24b9d84a-f2e6-11e7-93cb-0242ac130002",
     "previous": "24b9d61a-f2e6-11e7-93cb-0242ac130002"
    }
   },
   "source": [
    "SSHで接続できたことを確認したら、ユーザ `ssh_user` でログインしたかどうかを確認します。\n",
    "\n",
    "以下のセルを実行し、出力結果がユーザ名 `ssh_user` と合致するかを確認してください。"
   ]
  },
  {
   "cell_type": "code",
   "execution_count": 66,
   "metadata": {
    "deletable": false,
    "editable": false,
    "lc_cell_meme": {
     "current": "24b9d84a-f2e6-11e7-93cb-0242ac130002",
     "history": [],
     "next": "24b9d958-f2e6-11e7-93cb-0242ac130002",
     "previous": "24b9d73c-f2e6-11e7-93cb-0242ac130002"
    },
    "run_through_control": {
     "frozen": true,
     "read_only": false
    }
   },
   "outputs": [
    {
     "name": "stdout",
     "output_type": "stream",
     "text": [
      "\u001b[0;32mXXX.XXX.207.86 | SUCCESS | rc=0 >>\u001b[0m\r\n",
      "\u001b[0;32myazawa\u001b[0m\r\n",
      "\u001b[0;32m\u001b[0m\r\n"
     ]
    }
   ],
   "source": [
    "!ansible -i {work_dir}/hosts -a whoami all"
   ]
  },
  {
   "cell_type": "markdown",
   "metadata": {
    "lc_cell_meme": {
     "current": "24b9d958-f2e6-11e7-93cb-0242ac130002",
     "history": [],
     "next": "24b9da66-f2e6-11e7-93cb-0242ac130002",
     "previous": "24b9d84a-f2e6-11e7-93cb-0242ac130002"
    }
   },
   "source": [
    "### パスワードによる認証\n",
    "\n",
    "SSHログインにはキーペアを用いることが一般的ですが、環境によってはパスワードでログインしなければならない場面もあるかもしれません。\n",
    "\n",
    "\n",
    "> このセクションの例は、誤実行を防止するためFreeze状態(<i class=\"fa-freeze fa\"></i>)にしてあります。\n",
    "> 実行したい場合は、実行したいセル上でツールバーのUnfreezeボタン(<i class=\"fa-unfreeze fa\"></i>)をクリックしてFreezeを解除した後実行してください。"
   ]
  },
  {
   "cell_type": "markdown",
   "metadata": {
    "lc_cell_meme": {
     "current": "24b9da66-f2e6-11e7-93cb-0242ac130002",
     "history": [],
     "next": "24b9db74-f2e6-11e7-93cb-0242ac130002",
     "previous": "24b9d958-f2e6-11e7-93cb-0242ac130002"
    }
   },
   "source": [
    "#### パスワードを含むAnsible定義ファイルの作成\n",
    "\n",
    "以下のセルを実行してください。パスワード入力を求める入力フィールドがセル上に現れますので、SSHログイン用のパスワードを入力してください。\n",
    "この内容は変数に格納されます。"
   ]
  },
  {
   "cell_type": "code",
   "execution_count": 36,
   "metadata": {
    "deletable": false,
    "editable": false,
    "lc_cell_meme": {
     "current": "24b9db74-f2e6-11e7-93cb-0242ac130002",
     "history": [],
     "next": "24b9dc78-f2e6-11e7-93cb-0242ac130002",
     "previous": "24b9da66-f2e6-11e7-93cb-0242ac130002"
    },
    "run_through_control": {
     "frozen": true,
     "read_only": false
    }
   },
   "outputs": [
    {
     "name": "stdout",
     "output_type": "stream",
     "text": [
      "········\n"
     ]
    }
   ],
   "source": [
    "import getpass\n",
    "ssh_login_password = getpass.getpass()"
   ]
  },
  {
   "cell_type": "markdown",
   "metadata": {
    "lc_cell_meme": {
     "current": "24b9dc78-f2e6-11e7-93cb-0242ac130002",
     "history": [],
     "next": "24b9dd90-f2e6-11e7-93cb-0242ac130002",
     "previous": "24b9db74-f2e6-11e7-93cb-0242ac130002"
    }
   },
   "source": [
    "キーペアによる認証の例では、ホストに渡すログイン用のユーザ名やPythonインタプリタの情報をインベントリファイルに定義しました。\n",
    "\n",
    "今回は、パスワードのような機微情報を含むため、インベントリには直接書かず、Ansible Vaultで暗号化を実施できるようホスト変数として定義することにします。ファイル構成は以下のようにします。\n",
    "\n",
    "```\n",
    ".\n",
    "├── hosts\n",
    "└── host_vars\n",
    "    └── {target_host}\n",
    "```"
   ]
  },
  {
   "cell_type": "code",
   "execution_count": 43,
   "metadata": {
    "deletable": false,
    "editable": false,
    "lc_cell_meme": {
     "current": "24b9dd90-f2e6-11e7-93cb-0242ac130002",
     "history": [],
     "next": "24b9de94-f2e6-11e7-93cb-0242ac130002",
     "previous": "24b9dc78-f2e6-11e7-93cb-0242ac130002"
    },
    "run_through_control": {
     "frozen": true,
     "read_only": false
    }
   },
   "outputs": [
    {
     "name": "stdout",
     "output_type": "stream",
     "text": [
      "XXX.XXX.207.86\n",
      "\n",
      "-rw-r--r-- 1 bit_kun users 107 Jan  6 21:04 /tmp/tmpc1hqa30_/host_vars/XXX.XXX.207.86\n"
     ]
    }
   ],
   "source": [
    "import yaml\n",
    "\n",
    "with open(os.path.join(work_dir, 'hosts'), 'w') as f:\n",
    "    f.write(target_host)\n",
    "\n",
    "!mkdir -p {work_dir}/host_vars\n",
    "with open(os.path.join(work_dir, 'host_vars', target_host), 'w') as f:\n",
    "    f.write(yaml.dump(dict(ansible_ssh_user=ssh_user,\n",
    "                           ansible_python_interpreter=target_python_interpreter,\n",
    "                           ansible_ssh_pass=ssh_login_password)))\n",
    "!cat {work_dir}/hosts\n",
    "print('\\n')\n",
    "!ls -la {work_dir}/host_vars/{target_host}"
   ]
  },
  {
   "cell_type": "markdown",
   "metadata": {
    "lc_cell_meme": {
     "current": "24b9de94-f2e6-11e7-93cb-0242ac130002",
     "history": [],
     "next": "24b9dfac-f2e6-11e7-93cb-0242ac130002",
     "previous": "24b9dd90-f2e6-11e7-93cb-0242ac130002"
    }
   },
   "source": [
    "#### Ansible Vaultによる暗号化\n",
    "\n",
    "これでパスワードを含む設定ファイルを作成できました。しかしながら、このままでは `host_vars/{target_host}` は平文のため中身を覗かれてしまいます。そこで、`ansible-vault`コマンドを用いて暗号化します。"
   ]
  },
  {
   "cell_type": "markdown",
   "metadata": {
    "lc_cell_meme": {
     "current": "24b9dfac-f2e6-11e7-93cb-0242ac130002",
     "history": [],
     "next": "24b9e0b0-f2e6-11e7-93cb-0242ac130002",
     "previous": "24b9de94-f2e6-11e7-93cb-0242ac130002"
    }
   },
   "source": [
    "まず、Ansible Vaultで用いる適当なパスワードを決め、以下に入力します。この内容は、Jupyter Notebook環境の `~/.ansible_vault_pass` に書き込まれます。"
   ]
  },
  {
   "cell_type": "code",
   "execution_count": 50,
   "metadata": {
    "deletable": false,
    "editable": false,
    "lc_cell_meme": {
     "current": "24b9e0b0-f2e6-11e7-93cb-0242ac130002",
     "history": [],
     "next": "24b9e1be-f2e6-11e7-93cb-0242ac130002",
     "previous": "24b9dfac-f2e6-11e7-93cb-0242ac130002"
    },
    "run_through_control": {
     "frozen": true,
     "read_only": false
    }
   },
   "outputs": [
    {
     "name": "stdout",
     "output_type": "stream",
     "text": [
      "········\n"
     ]
    }
   ],
   "source": [
    "vault_pass = getpass.getpass()\n",
    "\n",
    "with open(os.path.expanduser('~/.ansible_vault_pass'), 'w') as f:\n",
    "    f.write(vault_pass)"
   ]
  },
  {
   "cell_type": "markdown",
   "metadata": {
    "lc_cell_meme": {
     "current": "24b9e1be-f2e6-11e7-93cb-0242ac130002",
     "history": [],
     "next": "24b9e2cc-f2e6-11e7-93cb-0242ac130002",
     "previous": "24b9e0b0-f2e6-11e7-93cb-0242ac130002"
    }
   },
   "source": [
    "次に、このパスワードを使って `host_vars` 配下のファイルを暗号化します。"
   ]
  },
  {
   "cell_type": "code",
   "execution_count": 51,
   "metadata": {
    "deletable": false,
    "editable": false,
    "lc_cell_meme": {
     "current": "24b9e2cc-f2e6-11e7-93cb-0242ac130002",
     "history": [],
     "next": "24b9e3d0-f2e6-11e7-93cb-0242ac130002",
     "previous": "24b9e1be-f2e6-11e7-93cb-0242ac130002"
    },
    "run_through_control": {
     "frozen": true,
     "read_only": false
    }
   },
   "outputs": [
    {
     "name": "stdout",
     "output_type": "stream",
     "text": [
      "Encryption successful\r\n"
     ]
    }
   ],
   "source": [
    "!ansible-vault encrypt {work_dir}/host_vars/{target_host} --vault-pass ~/.ansible_vault_pass"
   ]
  },
  {
   "cell_type": "markdown",
   "metadata": {
    "lc_cell_meme": {
     "current": "24b9e3d0-f2e6-11e7-93cb-0242ac130002",
     "history": [],
     "next": "24b9e4d4-f2e6-11e7-93cb-0242ac130002",
     "previous": "24b9e2cc-f2e6-11e7-93cb-0242ac130002"
    }
   },
   "source": [
    "暗号化後のファイルは、そのままでは内容がわからない状態になります。"
   ]
  },
  {
   "cell_type": "code",
   "execution_count": 52,
   "metadata": {
    "deletable": false,
    "editable": false,
    "lc_cell_meme": {
     "current": "24b9e4d4-f2e6-11e7-93cb-0242ac130002",
     "history": [],
     "next": "24b9e5e2-f2e6-11e7-93cb-0242ac130002",
     "previous": "24b9e3d0-f2e6-11e7-93cb-0242ac130002"
    },
    "run_through_control": {
     "frozen": true,
     "read_only": false
    }
   },
   "outputs": [
    {
     "name": "stdout",
     "output_type": "stream",
     "text": [
      "$ANSIBLE_VAULT;1.1;AES256\r\n",
      "35356235653162636134633864663337343630373837326535306663643333663134303661663531\r\n",
      "3739383435663633623431663838646130353163353162300a326365643666386535623334376138\r\n",
      "38313165616133376262343664663334666439663463303761323464376132633435326464373761\r\n",
      "3432306663626538330a636263373766353934306363653561636462616434336564353165343230\r\n",
      "34393332343233353564653535333534623538643637616238666163653831356461383535643230\r\n",
      "39656635326332666132316438646332303766383765656437643431313535313166386362323233\r\n",
      "38323163343132316563626266656138303636316330323135663733383538663836626235663237\r\n",
      "66633535633439363734653163323665393362303061356334656633636533303737616331306661\r\n",
      "64373631393865346538356239353461303664333566336562366563386632306232\r\n"
     ]
    }
   ],
   "source": [
    "!cat {work_dir}/host_vars/{target_host}"
   ]
  },
  {
   "cell_type": "markdown",
   "metadata": {
    "lc_cell_meme": {
     "current": "24b9e5e2-f2e6-11e7-93cb-0242ac130002",
     "history": [],
     "next": "24b9e6f0-f2e6-11e7-93cb-0242ac130002",
     "previous": "24b9e4d4-f2e6-11e7-93cb-0242ac130002"
    }
   },
   "source": [
    "このようにして暗号化された`host_vars`を参照する場合、ansibleコマンドの実行時に、引数 `--vault-pass ~/.ansible_vault_pass` を指定する必要があります。"
   ]
  },
  {
   "cell_type": "markdown",
   "metadata": {
    "lc_cell_meme": {
     "current": "24b9e6f0-f2e6-11e7-93cb-0242ac130002",
     "history": [],
     "next": "24b9e7f4-f2e6-11e7-93cb-0242ac130002",
     "previous": "24b9e5e2-f2e6-11e7-93cb-0242ac130002"
    }
   },
   "source": [
    "#### 疎通確認\n",
    "\n",
    "Ansibleの `ping` モジュールを使って疎通確認をします。\n",
    "\n",
    "`ping` モジュールは、AnsibleのInventory等で定義されたSSH接続情報を用いて、疎通確認、Pythonの動作確認を実施します。`Out [49]`のようにこのコマンドの実行が成功すれば、SSHログインのための認証情報設定は成功です。\n",
    "\n",
    "> `Out [48]`のようになる場合は、先に示した `ssh_login_password` 変数へのパスワード入力がうまくいっていないか、`ssh_user`変数が正しく設定されていない可能性があります。\n"
   ]
  },
  {
   "cell_type": "code",
   "execution_count": 55,
   "metadata": {
    "deletable": false,
    "editable": false,
    "lc_cell_meme": {
     "current": "24b9e7f4-f2e6-11e7-93cb-0242ac130002",
     "history": [],
     "next": "24b9e902-f2e6-11e7-93cb-0242ac130002",
     "previous": "24b9e6f0-f2e6-11e7-93cb-0242ac130002"
    },
    "pinned_outputs": [
     {
      "execution_count": 48,
      "outputs": [
       {
        "name": "stdout",
        "output_type": "stream",
        "text": "\u001b[1;31mXXX.XXX.207.86 | UNREACHABLE! => {\u001b[0m\r\n\u001b[1;31m    \"changed\": false, \u001b[0m\r\n\u001b[1;31m    \"msg\": \"Authentication failure.\", \u001b[0m\r\n\u001b[1;31m    \"unreachable\": true\u001b[0m\r\n\u001b[1;31m}\u001b[0m\r\n"
       },
       {
        "ename": "RuntimeError",
        "evalue": "Unexpected exit code: 4",
        "output_type": "error",
        "traceback": [
         "\u001b[0;31m---------------------------------------------------------------------------\u001b[0m",
         "\u001b[0;31mRuntimeError\u001b[0m                              Traceback (most recent call last)",
         "\u001b[0;32m<ipython-input-96-afac405f1e96>\u001b[0m in \u001b[0;36m<module>\u001b[0;34m()\u001b[0m\n\u001b[0;32m----> 1\u001b[0;31m \u001b[0mget_ipython\u001b[0m\u001b[0;34m(\u001b[0m\u001b[0;34m)\u001b[0m\u001b[0;34m.\u001b[0m\u001b[0msystem\u001b[0m\u001b[0;34m(\u001b[0m\u001b[0;34m'ansible -i {work_dir}/hosts -m ping all'\u001b[0m\u001b[0;34m)\u001b[0m\u001b[0;34m\u001b[0m\u001b[0m\n\u001b[0m",
         "\u001b[0;32m~/.ipython/profile_default/startup/10-custom-get_ipython_system.py\u001b[0m in \u001b[0;36m<lambda>\u001b[0;34m(x)\u001b[0m\n\u001b[1;32m      5\u001b[0m \u001b[0;34m\u001b[0m\u001b[0m\n\u001b[1;32m      6\u001b[0m \u001b[0msave_get_ipython_system\u001b[0m \u001b[0;34m=\u001b[0m \u001b[0mget_ipython\u001b[0m\u001b[0;34m(\u001b[0m\u001b[0;34m)\u001b[0m\u001b[0;34m.\u001b[0m\u001b[0msystem\u001b[0m\u001b[0;34m\u001b[0m\u001b[0m\n\u001b[0;32m----> 7\u001b[0;31m \u001b[0mget_ipython\u001b[0m\u001b[0;34m(\u001b[0m\u001b[0;34m)\u001b[0m\u001b[0;34m.\u001b[0m\u001b[0msystem\u001b[0m \u001b[0;34m=\u001b[0m \u001b[0;32mlambda\u001b[0m \u001b[0mx\u001b[0m\u001b[0;34m:\u001b[0m \u001b[0mget_ipython_system\u001b[0m\u001b[0;34m(\u001b[0m\u001b[0mx\u001b[0m\u001b[0;34m)\u001b[0m\u001b[0;34m\u001b[0m\u001b[0m\n\u001b[0m\u001b[1;32m      8\u001b[0m \u001b[0;34m\u001b[0m\u001b[0m\n\u001b[1;32m      9\u001b[0m \u001b[0;31m# interactiveshell.py's system_piped() function comment saids:\u001b[0m\u001b[0;34m\u001b[0m\u001b[0;34m\u001b[0m\u001b[0m\n",
         "\u001b[0;32m~/.ipython/profile_default/startup/10-custom-get_ipython_system.py\u001b[0m in \u001b[0;36mget_ipython_system\u001b[0;34m(cmd)\u001b[0m\n\u001b[1;32m     13\u001b[0m     \u001b[0msave_get_ipython_system\u001b[0m\u001b[0;34m(\u001b[0m\u001b[0mcmd\u001b[0m\u001b[0;34m)\u001b[0m\u001b[0;34m\u001b[0m\u001b[0m\n\u001b[1;32m     14\u001b[0m     \u001b[0;32mif\u001b[0m \u001b[0mget_ipython\u001b[0m\u001b[0;34m(\u001b[0m\u001b[0;34m)\u001b[0m\u001b[0;34m.\u001b[0m\u001b[0muser_ns\u001b[0m\u001b[0;34m[\u001b[0m\u001b[0;34m'_exit_code'\u001b[0m\u001b[0;34m]\u001b[0m \u001b[0;34m!=\u001b[0m \u001b[0;36m0\u001b[0m\u001b[0;34m:\u001b[0m\u001b[0;34m\u001b[0m\u001b[0m\n\u001b[0;32m---> 15\u001b[0;31m         \u001b[0;32mraise\u001b[0m \u001b[0mRuntimeError\u001b[0m\u001b[0;34m(\u001b[0m\u001b[0;34m'Unexpected exit code: %d'\u001b[0m \u001b[0;34m%\u001b[0m \u001b[0mget_ipython\u001b[0m\u001b[0;34m(\u001b[0m\u001b[0;34m)\u001b[0m\u001b[0;34m.\u001b[0m\u001b[0muser_ns\u001b[0m\u001b[0;34m[\u001b[0m\u001b[0;34m'_exit_code'\u001b[0m\u001b[0;34m]\u001b[0m\u001b[0;34m)\u001b[0m\u001b[0;34m\u001b[0m\u001b[0m\n\u001b[0m",
         "\u001b[0;31mRuntimeError\u001b[0m: Unexpected exit code: 4"
        ]
       }
      ]
     },
     {
      "execution_count": 49,
      "outputs": [
       {
        "name": "stdout",
        "output_type": "stream",
        "text": "\u001b[0;32mXXX.XXX.207.86 | SUCCESS => {\u001b[0m\r\n\u001b[0;32m    \"changed\": false, \u001b[0m\r\n\u001b[0;32m    \"failed\": false, \u001b[0m\r\n\u001b[0;32m    \"ping\": \"pong\"\u001b[0m\r\n\u001b[0;32m}\u001b[0m\r\n"
       }
      ]
     },
     {
      "execution_count": 54,
      "outputs": [
       {
        "name": "stdout",
        "output_type": "stream",
        "text": "\u001b[0;31mERROR! Attempting to decrypt but no vault secrets found\u001b[0m\r\n"
       },
       {
        "ename": "RuntimeError",
        "evalue": "Unexpected exit code: 4",
        "output_type": "error",
        "traceback": [
         "\u001b[0;31m---------------------------------------------------------------------------\u001b[0m",
         "\u001b[0;31mRuntimeError\u001b[0m                              Traceback (most recent call last)",
         "\u001b[0;32m<ipython-input-108-afac405f1e96>\u001b[0m in \u001b[0;36m<module>\u001b[0;34m()\u001b[0m\n\u001b[0;32m----> 1\u001b[0;31m \u001b[0mget_ipython\u001b[0m\u001b[0;34m(\u001b[0m\u001b[0;34m)\u001b[0m\u001b[0;34m.\u001b[0m\u001b[0msystem\u001b[0m\u001b[0;34m(\u001b[0m\u001b[0;34m'ansible -i {work_dir}/hosts -m ping all'\u001b[0m\u001b[0;34m)\u001b[0m\u001b[0;34m\u001b[0m\u001b[0m\n\u001b[0m",
         "\u001b[0;32m~/.ipython/profile_default/startup/10-custom-get_ipython_system.py\u001b[0m in \u001b[0;36m<lambda>\u001b[0;34m(x)\u001b[0m\n\u001b[1;32m      5\u001b[0m \u001b[0;34m\u001b[0m\u001b[0m\n\u001b[1;32m      6\u001b[0m \u001b[0msave_get_ipython_system\u001b[0m \u001b[0;34m=\u001b[0m \u001b[0mget_ipython\u001b[0m\u001b[0;34m(\u001b[0m\u001b[0;34m)\u001b[0m\u001b[0;34m.\u001b[0m\u001b[0msystem\u001b[0m\u001b[0;34m\u001b[0m\u001b[0m\n\u001b[0;32m----> 7\u001b[0;31m \u001b[0mget_ipython\u001b[0m\u001b[0;34m(\u001b[0m\u001b[0;34m)\u001b[0m\u001b[0;34m.\u001b[0m\u001b[0msystem\u001b[0m \u001b[0;34m=\u001b[0m \u001b[0;32mlambda\u001b[0m \u001b[0mx\u001b[0m\u001b[0;34m:\u001b[0m \u001b[0mget_ipython_system\u001b[0m\u001b[0;34m(\u001b[0m\u001b[0mx\u001b[0m\u001b[0;34m)\u001b[0m\u001b[0;34m\u001b[0m\u001b[0m\n\u001b[0m\u001b[1;32m      8\u001b[0m \u001b[0;34m\u001b[0m\u001b[0m\n\u001b[1;32m      9\u001b[0m \u001b[0;31m# interactiveshell.py's system_piped() function comment saids:\u001b[0m\u001b[0;34m\u001b[0m\u001b[0;34m\u001b[0m\u001b[0m\n",
         "\u001b[0;32m~/.ipython/profile_default/startup/10-custom-get_ipython_system.py\u001b[0m in \u001b[0;36mget_ipython_system\u001b[0;34m(cmd)\u001b[0m\n\u001b[1;32m     13\u001b[0m     \u001b[0msave_get_ipython_system\u001b[0m\u001b[0;34m(\u001b[0m\u001b[0mcmd\u001b[0m\u001b[0;34m)\u001b[0m\u001b[0;34m\u001b[0m\u001b[0m\n\u001b[1;32m     14\u001b[0m     \u001b[0;32mif\u001b[0m \u001b[0mget_ipython\u001b[0m\u001b[0;34m(\u001b[0m\u001b[0;34m)\u001b[0m\u001b[0;34m.\u001b[0m\u001b[0muser_ns\u001b[0m\u001b[0;34m[\u001b[0m\u001b[0;34m'_exit_code'\u001b[0m\u001b[0;34m]\u001b[0m \u001b[0;34m!=\u001b[0m \u001b[0;36m0\u001b[0m\u001b[0;34m:\u001b[0m\u001b[0;34m\u001b[0m\u001b[0m\n\u001b[0;32m---> 15\u001b[0;31m         \u001b[0;32mraise\u001b[0m \u001b[0mRuntimeError\u001b[0m\u001b[0;34m(\u001b[0m\u001b[0;34m'Unexpected exit code: %d'\u001b[0m \u001b[0;34m%\u001b[0m \u001b[0mget_ipython\u001b[0m\u001b[0;34m(\u001b[0m\u001b[0;34m)\u001b[0m\u001b[0;34m.\u001b[0m\u001b[0muser_ns\u001b[0m\u001b[0;34m[\u001b[0m\u001b[0;34m'_exit_code'\u001b[0m\u001b[0;34m]\u001b[0m\u001b[0;34m)\u001b[0m\u001b[0;34m\u001b[0m\u001b[0m\n\u001b[0m",
         "\u001b[0;31mRuntimeError\u001b[0m: Unexpected exit code: 4"
        ]
       }
      ]
     }
    ],
    "run_through_control": {
     "frozen": true,
     "read_only": false
    }
   },
   "outputs": [
    {
     "name": "stdout",
     "output_type": "stream",
     "text": [
      "\u001b[0;32mXXX.XXX.207.86 | SUCCESS => {\u001b[0m\r\n",
      "\u001b[0;32m    \"changed\": false, \u001b[0m\r\n",
      "\u001b[0;32m    \"failed\": false, \u001b[0m\r\n",
      "\u001b[0;32m    \"ping\": \"pong\"\u001b[0m\r\n",
      "\u001b[0;32m}\u001b[0m\r\n"
     ]
    }
   ],
   "source": [
    "!ansible -i {work_dir}/hosts --vault-pass ~/.ansible_vault_pass -m ping all"
   ]
  },
  {
   "cell_type": "markdown",
   "metadata": {
    "lc_cell_meme": {
     "current": "24b9e902-f2e6-11e7-93cb-0242ac130002",
     "history": [],
     "next": "24b9ea10-f2e6-11e7-93cb-0242ac130002",
     "previous": "24b9e7f4-f2e6-11e7-93cb-0242ac130002"
    }
   },
   "source": [
    "SSHで接続できたことを確認したら、ユーザ `ssh_user` でログインしたかどうかを確認します。\n",
    "\n",
    "以下のセルを実行し、出力結果がユーザ名 `ssh_user` と合致するかを確認してください。"
   ]
  },
  {
   "cell_type": "code",
   "execution_count": 72,
   "metadata": {
    "deletable": false,
    "editable": false,
    "lc_cell_meme": {
     "current": "24b9ea10-f2e6-11e7-93cb-0242ac130002",
     "history": [],
     "next": "24b9eb1e-f2e6-11e7-93cb-0242ac130002",
     "previous": "24b9e902-f2e6-11e7-93cb-0242ac130002"
    },
    "run_through_control": {
     "frozen": true,
     "read_only": false
    }
   },
   "outputs": [
    {
     "name": "stdout",
     "output_type": "stream",
     "text": [
      "\u001b[0;32mXXX.XXX.207.86 | SUCCESS | rc=0 >>\u001b[0m\n",
      "\u001b[0;32myazawa\u001b[0m\n",
      "\u001b[0;32m\u001b[0m\n"
     ]
    }
   ],
   "source": [
    "!ansible -i {work_dir}/hosts --vault-pass ~/.ansible_vault_pass -a whoami all"
   ]
  },
  {
   "cell_type": "markdown",
   "metadata": {
    "lc_cell_meme": {
     "current": "24b9eb1e-f2e6-11e7-93cb-0242ac130002",
     "history": [],
     "next": "24b9ec2c-f2e6-11e7-93cb-0242ac130002",
     "previous": "24b9ea10-f2e6-11e7-93cb-0242ac130002"
    }
   },
   "source": [
    "## SSH sudo時のパスワード指定の有無\n",
    "\n",
    "Ansibleは特権ユーザになる必要がある場合に、sudoを使って昇格をしようとします。sudoにパスワードを求める環境においては、*パスワードによる認証*と同様に `host_vars` に接続情報を定義するようにします。"
   ]
  },
  {
   "cell_type": "markdown",
   "metadata": {
    "lc_cell_meme": {
     "current": "24b9ec2c-f2e6-11e7-93cb-0242ac130002",
     "history": [],
     "next": "24b9ed3a-f2e6-11e7-93cb-0242ac130002",
     "previous": "24b9eb1e-f2e6-11e7-93cb-0242ac130002"
    }
   },
   "source": [
    "### パスワードを含むAnsible定義ファイルの作成\n",
    "\n",
    "以下のセルを実行してください。パスワード入力を求める入力フィールドがセル上に現れますので、SSHログイン用のパスワードを入力してください。\n",
    "この内容は変数に格納されます。"
   ]
  },
  {
   "cell_type": "code",
   "execution_count": 57,
   "metadata": {
    "deletable": false,
    "editable": false,
    "lc_cell_meme": {
     "current": "24b9ed3a-f2e6-11e7-93cb-0242ac130002",
     "history": [],
     "next": "24b9ee48-f2e6-11e7-93cb-0242ac130002",
     "previous": "24b9ec2c-f2e6-11e7-93cb-0242ac130002"
    },
    "run_through_control": {
     "frozen": true,
     "read_only": false
    }
   },
   "outputs": [
    {
     "name": "stdout",
     "output_type": "stream",
     "text": [
      "········\n"
     ]
    }
   ],
   "source": [
    "import getpass\n",
    "ssh_become_password = getpass.getpass()"
   ]
  },
  {
   "cell_type": "markdown",
   "metadata": {
    "lc_cell_meme": {
     "current": "24b9ee48-f2e6-11e7-93cb-0242ac130002",
     "history": [],
     "next": "24b9ef60-f2e6-11e7-93cb-0242ac130002",
     "previous": "24b9ed3a-f2e6-11e7-93cb-0242ac130002"
    }
   },
   "source": [
    "キーペアによる認証の例では、ホストに渡すログイン用のユーザ名やPythonインタプリタの情報をインベントリファイルに定義しました。\n",
    "\n",
    "今回は、パスワードのような機微情報を含むため、インベントリには直接書かず、Ansible Vaultで暗号化を実施できるようホスト変数として定義することにします。ファイル構成は以下のようにします。\n",
    "\n",
    "```\n",
    ".\n",
    "├── hosts\n",
    "└── host_vars\n",
    "    └── {target_host}\n",
    "```"
   ]
  },
  {
   "cell_type": "code",
   "execution_count": 80,
   "metadata": {
    "deletable": false,
    "editable": false,
    "lc_cell_meme": {
     "current": "24b9ef60-f2e6-11e7-93cb-0242ac130002",
     "history": [],
     "next": "24b9f064-f2e6-11e7-93cb-0242ac130002",
     "previous": "24b9ee48-f2e6-11e7-93cb-0242ac130002"
    },
    "run_through_control": {
     "frozen": true,
     "read_only": false
    }
   },
   "outputs": [
    {
     "name": "stdout",
     "output_type": "stream",
     "text": [
      "XXX.XXX.207.86\n",
      "\n",
      "-rw------- 1 bit_kun users 172 Jan  6 21:40 /tmp/tmpc1hqa30_/host_vars/XXX.XXX.207.86\n"
     ]
    }
   ],
   "source": [
    "import yaml\n",
    "\n",
    "with open(os.path.join(work_dir, 'hosts'), 'w') as f:\n",
    "    f.write(target_host)\n",
    "\n",
    "!mkdir -p {work_dir}/host_vars\n",
    "settings = dict(ansible_ssh_user=ssh_user,\n",
    "                ansible_python_interpreter=target_python_interpreter,\n",
    "                ansible_become_pass=ssh_become_password)\n",
    "if 'ssh_login_password' in globals():\n",
    "    # SSHログイン時の認証方式 - パスワードによる認証の場合\n",
    "    settings['ansible_ssh_pass'] = ssh_login_password\n",
    "else:\n",
    "    settings['ansible_ssh_private_key_file'] = local_priv_key\n",
    "with open(os.path.join(work_dir, 'host_vars', target_host), 'w') as f:\n",
    "    f.write(yaml.dump(settings))\n",
    "!cat {work_dir}/hosts\n",
    "print('\\n')\n",
    "!ls -la {work_dir}/host_vars/{target_host}"
   ]
  },
  {
   "cell_type": "markdown",
   "metadata": {
    "lc_cell_meme": {
     "current": "24b9f064-f2e6-11e7-93cb-0242ac130002",
     "history": [],
     "next": "24b9f17c-f2e6-11e7-93cb-0242ac130002",
     "previous": "24b9ef60-f2e6-11e7-93cb-0242ac130002"
    }
   },
   "source": [
    "### Ansible Vaultによる暗号化\n",
    "\n",
    "これでパスワードを含む設定ファイルを作成できました。しかしながら、このままでは `host_vars/{target_host}` は平文のため中身を覗かれてしまいます。そこで、`ansible-vault`コマンドを用いて暗号化します。"
   ]
  },
  {
   "cell_type": "markdown",
   "metadata": {
    "lc_cell_meme": {
     "current": "24b9f17c-f2e6-11e7-93cb-0242ac130002",
     "history": [],
     "next": "24b9f280-f2e6-11e7-93cb-0242ac130002",
     "previous": "24b9f064-f2e6-11e7-93cb-0242ac130002"
    }
   },
   "source": [
    "まず、Ansible Vaultで用いる適当なパスワードを決め、以下に入力します。この内容は、Jupyter Notebook環境の `~/.ansible_vault_pass` に書き込まれます。"
   ]
  },
  {
   "cell_type": "code",
   "execution_count": 81,
   "metadata": {
    "deletable": false,
    "editable": false,
    "lc_cell_meme": {
     "current": "24b9f280-f2e6-11e7-93cb-0242ac130002",
     "history": [],
     "next": "24b9f38e-f2e6-11e7-93cb-0242ac130002",
     "previous": "24b9f17c-f2e6-11e7-93cb-0242ac130002"
    },
    "run_through_control": {
     "frozen": true,
     "read_only": false
    }
   },
   "outputs": [],
   "source": [
    "if not os.path.exists(os.path.expanduser('~/.ansible_vault_pass')):\n",
    "    # すでに~/.ansible_vault_passが定義済みであれば何もしない\n",
    "    vault_pass = getpass.getpass()\n",
    "\n",
    "    with open(os.path.expanduser('~/.ansible_vault_pass'), 'w') as f:\n",
    "        f.write(vault_pass)"
   ]
  },
  {
   "cell_type": "markdown",
   "metadata": {
    "lc_cell_meme": {
     "current": "24b9f38e-f2e6-11e7-93cb-0242ac130002",
     "history": [],
     "next": "24b9f492-f2e6-11e7-93cb-0242ac130002",
     "previous": "24b9f280-f2e6-11e7-93cb-0242ac130002"
    }
   },
   "source": [
    "次に、このパスワードを使って `host_vars` 配下のファイルを暗号化します。"
   ]
  },
  {
   "cell_type": "code",
   "execution_count": 82,
   "metadata": {
    "deletable": false,
    "editable": false,
    "lc_cell_meme": {
     "current": "24b9f492-f2e6-11e7-93cb-0242ac130002",
     "history": [],
     "next": "24b9f5a0-f2e6-11e7-93cb-0242ac130002",
     "previous": "24b9f38e-f2e6-11e7-93cb-0242ac130002"
    },
    "run_through_control": {
     "frozen": true,
     "read_only": false
    }
   },
   "outputs": [
    {
     "name": "stdout",
     "output_type": "stream",
     "text": [
      "Encryption successful\r\n"
     ]
    }
   ],
   "source": [
    "!ansible-vault encrypt {work_dir}/host_vars/{target_host} --vault-pass ~/.ansible_vault_pass"
   ]
  },
  {
   "cell_type": "markdown",
   "metadata": {
    "lc_cell_meme": {
     "current": "24b9f5a0-f2e6-11e7-93cb-0242ac130002",
     "history": [],
     "next": "24b9f6b8-f2e6-11e7-93cb-0242ac130002",
     "previous": "24b9f492-f2e6-11e7-93cb-0242ac130002"
    }
   },
   "source": [
    "暗号化後のファイルは、そのままでは内容がわからない状態になります。"
   ]
  },
  {
   "cell_type": "code",
   "execution_count": 83,
   "metadata": {
    "deletable": false,
    "editable": false,
    "lc_cell_meme": {
     "current": "24b9f6b8-f2e6-11e7-93cb-0242ac130002",
     "history": [],
     "next": "24b9f7c6-f2e6-11e7-93cb-0242ac130002",
     "previous": "24b9f5a0-f2e6-11e7-93cb-0242ac130002"
    },
    "run_through_control": {
     "frozen": true,
     "read_only": false
    }
   },
   "outputs": [
    {
     "name": "stdout",
     "output_type": "stream",
     "text": [
      "$ANSIBLE_VAULT;1.1;AES256\r\n",
      "62633038343165613833643165383730346435656364353333633230653033643333633335303137\r\n",
      "6665323237313138383162633139386638626638373663350a616235663430373264393539656538\r\n",
      "30383636616165393935393632666634643261303232346633656538666331376130663030656233\r\n",
      "6330386666373066660a636661393663343133373630613465666263663836303532373766373535\r\n",
      "66653463616436363138353335336630373231363330356666643663313236633236396333333135\r\n",
      "33303461376637616562666437653234353865343339313733393030653561316339353533623165\r\n",
      "35666266303639376462653138633361323932393034653739323861323039666131383735326432\r\n",
      "65363036323438336235333636343534643935633666613839653135356336326531613835373364\r\n",
      "65306439303330636235303632323538643630306562316237303537333665303466613863383365\r\n",
      "31313165663264396665323635633338633731353532353233313636306536643861356336306639\r\n",
      "30356362623630376239343663373936313132623030313065636330336635393230323764306536\r\n",
      "31663538656566656666633835306430613436303432306138363436653061636362396666356631\r\n",
      "6166\r\n"
     ]
    }
   ],
   "source": [
    "!cat {work_dir}/host_vars/{target_host}"
   ]
  },
  {
   "cell_type": "markdown",
   "metadata": {
    "lc_cell_meme": {
     "current": "24b9f7c6-f2e6-11e7-93cb-0242ac130002",
     "history": [],
     "next": "24b9f8e8-f2e6-11e7-93cb-0242ac130002",
     "previous": "24b9f6b8-f2e6-11e7-93cb-0242ac130002"
    }
   },
   "source": [
    "このようにして暗号化された`host_vars`を参照する場合、ansibleコマンドの実行時に、引数 `--vault-pass ~/.ansible_vault_pass` を指定する必要があります。"
   ]
  },
  {
   "cell_type": "markdown",
   "metadata": {
    "lc_cell_meme": {
     "current": "24b9f8e8-f2e6-11e7-93cb-0242ac130002",
     "history": [],
     "next": "24b9f9f6-f2e6-11e7-93cb-0242ac130002",
     "previous": "24b9f7c6-f2e6-11e7-93cb-0242ac130002"
    }
   },
   "source": [
    "### becomeできることの確認\n",
    "\n",
    "Ansibleコマンド実行時にbecomeオプションを付加し、昇格できることを確認します。"
   ]
  },
  {
   "cell_type": "markdown",
   "metadata": {
    "lc_cell_meme": {
     "current": "24b9f9f6-f2e6-11e7-93cb-0242ac130002",
     "history": [],
     "next": "24b9fb04-f2e6-11e7-93cb-0242ac130002",
     "previous": "24b9f8e8-f2e6-11e7-93cb-0242ac130002"
    }
   },
   "source": [
    "以下のセルを実行し、結果が `Out [84]`のように`root`となることを確認してください。"
   ]
  },
  {
   "cell_type": "code",
   "execution_count": 84,
   "metadata": {
    "deletable": false,
    "editable": false,
    "lc_cell_meme": {
     "current": "24b9fb04-f2e6-11e7-93cb-0242ac130002",
     "history": [],
     "next": "24b9fc12-f2e6-11e7-93cb-0242ac130002",
     "previous": "24b9f9f6-f2e6-11e7-93cb-0242ac130002"
    },
    "pinned_outputs": [
     {
      "execution_count": 84,
      "outputs": [
       {
        "name": "stdout",
        "output_type": "stream",
        "text": "\u001b[0;32mXXX.XXX.207.86 | SUCCESS | rc=0 >>\u001b[0m\r\n\u001b[0;32mroot\u001b[0m\r\n\u001b[0;32m\u001b[0m\r\n"
       }
      ]
     }
    ],
    "run_through_control": {
     "frozen": true,
     "read_only": false
    }
   },
   "outputs": [
    {
     "name": "stdout",
     "output_type": "stream",
     "text": [
      "\u001b[0;32mXXX.XXX.207.86 | SUCCESS | rc=0 >>\u001b[0m\r\n",
      "\u001b[0;32mroot\u001b[0m\r\n",
      "\u001b[0;32m\u001b[0m\r\n"
     ]
    }
   ],
   "source": [
    "!ansible -i {work_dir}/hosts --become --vault-pass ~/.ansible_vault_pass -a whoami all"
   ]
  },
  {
   "cell_type": "markdown",
   "metadata": {
    "lc_cell_meme": {
     "current": "24b9fc12-f2e6-11e7-93cb-0242ac130002",
     "history": [],
     "next": "24b9fd20-f2e6-11e7-93cb-0242ac130002",
     "previous": "24b9fb04-f2e6-11e7-93cb-0242ac130002"
    }
   },
   "source": [
    "# Ansibleの設定\n",
    "\n",
    "SSH接続に関する設定を確認することができたら、一時ファイルとして作成してあった設定ファイルを、常時利用できるように特定の場所にまとめ、簡単に使えるようにしましょう。"
   ]
  },
  {
   "cell_type": "markdown",
   "metadata": {
    "lc_cell_meme": {
     "current": "24b9fd20-f2e6-11e7-93cb-0242ac130002",
     "history": [],
     "next": "24b9fe24-f2e6-11e7-93cb-0242ac130002",
     "previous": "24b9fc12-f2e6-11e7-93cb-0242ac130002"
    }
   },
   "source": [
    "## 設定の整理\n",
    "\n",
    "操作対象のマシンにアクセスするためのSSH接続設定は明らかになりましたが、これらの設定をどのようなファイルに配置・記述したらよいか？をいくつかポイントを解説します。"
   ]
  },
  {
   "cell_type": "markdown",
   "metadata": {
    "lc_cell_meme": {
     "current": "24b9fe24-f2e6-11e7-93cb-0242ac130002",
     "history": [],
     "next": "24b9ff32-f2e6-11e7-93cb-0242ac130002",
     "previous": "24b9fd20-f2e6-11e7-93cb-0242ac130002"
    }
   },
   "source": [
    "### グループの構成\n",
    "\n",
    "ここまでで見てきた設定ファイルは、一時的なアクセスを想定したもので、単一のホストを前提としたものです。しかしながら、Ansibleで管理する対象は複数のホストである場合もあり、[About: Hadoop - Set! Inventory](http://nbviewer.jupyter.org/github/NII-cloud-operation/Literate-computing-Hadoop/blob/master/D10_Hadoop%20-%20Set%21%20Inventory.ipynb)の例にあるように、複数のホストに対して**グループ**を定義し、まとめてコマンドを発行するということがありえます。\n",
    "\n",
    "ここでは、単純な例として、操作対象とした {target_host} を以下のグループ名を持つグループにまとめることにします。"
   ]
  },
  {
   "cell_type": "code",
   "execution_count": 85,
   "metadata": {
    "deletable": false,
    "editable": false,
    "lc_cell_meme": {
     "current": "24b9ff32-f2e6-11e7-93cb-0242ac130002",
     "history": [],
     "next": "24ba0040-f2e6-11e7-93cb-0242ac130002",
     "previous": "24b9fe24-f2e6-11e7-93cb-0242ac130002"
    },
    "run_through_control": {
     "frozen": true
    }
   },
   "outputs": [
    {
     "data": {
      "text/plain": [
       "'test-machine'"
      ]
     },
     "execution_count": 85,
     "metadata": {},
     "output_type": "execute_result"
    }
   ],
   "source": [
    "target_group = 'test-machine'\n",
    "target_group"
   ]
  },
  {
   "cell_type": "markdown",
   "metadata": {
    "lc_cell_meme": {
     "current": "24ba0040-f2e6-11e7-93cb-0242ac130002",
     "history": [],
     "next": "24ba014e-f2e6-11e7-93cb-0242ac130002",
     "previous": "24b9ff32-f2e6-11e7-93cb-0242ac130002"
    }
   },
   "source": [
    "### 変数の定義対象\n",
    "\n",
    "ここまで見てきた設定ファイルは、 `host_vars`によって、ホストごとに変数を定義していました。これは、ホストが複数になったときに非常に面倒になります。\n",
    "\n",
    "そこで、同一グループに所属するホストの接続設定を共通のものにして、`group_vars`にまとめて定義するということが可能です。\n",
    "\n",
    "**host_varsでの定義**\n",
    "\n",
    "```\n",
    ".\n",
    "├── hosts\n",
    "└── host_vars\n",
    "    └── {target_host}\n",
    "```\n",
    "\n",
    "**group_varsでの定義**\n",
    "\n",
    "```\n",
    ".\n",
    "├── hosts\n",
    "└── group_vars\n",
    "    └── {target_group}\n",
    "```"
   ]
  },
  {
   "cell_type": "markdown",
   "metadata": {
    "lc_cell_meme": {
     "current": "24ba014e-f2e6-11e7-93cb-0242ac130002",
     "history": [],
     "next": "24ba025c-f2e6-11e7-93cb-0242ac130002",
     "previous": "24ba0040-f2e6-11e7-93cb-0242ac130002"
    }
   },
   "source": [
    "## 設定ファイルの作成\n"
   ]
  },
  {
   "cell_type": "markdown",
   "metadata": {
    "lc_cell_meme": {
     "current": "24ba025c-f2e6-11e7-93cb-0242ac130002",
     "history": [],
     "next": "24ba036a-f2e6-11e7-93cb-0242ac130002",
     "previous": "24ba014e-f2e6-11e7-93cb-0242ac130002"
    }
   },
   "source": [
    "### インベントリファイル\n",
    "\n",
    "インベントリファイル(先の`hosts`)はAnsibleのあらゆるコマンドの実行時に与える必要があるファイルです。\n",
    "\n",
    "このJupyter Notebookから単一のインベントリファイルを使用することがわかっている場合は、適当なディレクトリに `hosts`ファイルを作成し、これをデフォルトインベントリファイルとして設定することができます。\n",
    "\n",
    "ここでは、Jupyter Notebookから編集しやすいように、Notebookのルートディレクトリ(`/notebooks`)への配置を考えてみます。"
   ]
  },
  {
   "cell_type": "code",
   "execution_count": 86,
   "metadata": {
    "deletable": false,
    "editable": false,
    "lc_cell_meme": {
     "current": "24ba036a-f2e6-11e7-93cb-0242ac130002",
     "history": [],
     "next": "24ba0478-f2e6-11e7-93cb-0242ac130002",
     "previous": "24ba025c-f2e6-11e7-93cb-0242ac130002"
    },
    "run_through_control": {
     "frozen": true
    }
   },
   "outputs": [],
   "source": [
    "!touch /notebooks/hosts"
   ]
  },
  {
   "attachments": {
    "image.png": {
     "image/png": "[encoded data removed]"
    }
   },
   "cell_type": "markdown",
   "metadata": {
    "lc_cell_meme": {
     "current": "24ba0478-f2e6-11e7-93cb-0242ac130002",
     "history": [],
     "next": "24ba0586-f2e6-11e7-93cb-0242ac130002",
     "previous": "24ba036a-f2e6-11e7-93cb-0242ac130002"
    }
   },
   "source": [
    "この `/notebooks/hosts` ファイルは、リンク [hosts](/edit/hosts) をクリックすることでエディタを開くことができます。\n",
    "\n",
    "![image.png](attachment:image.png)"
   ]
  },
  {
   "cell_type": "markdown",
   "metadata": {
    "lc_cell_meme": {
     "current": "24ba0586-f2e6-11e7-93cb-0242ac130002",
     "history": [],
     "next": "24ba0694-f2e6-11e7-93cb-0242ac130002",
     "previous": "24ba0478-f2e6-11e7-93cb-0242ac130002"
    }
   },
   "source": [
    "ここに、以下のセルの実行結果を記述してみてください。"
   ]
  },
  {
   "cell_type": "code",
   "execution_count": 87,
   "metadata": {
    "deletable": false,
    "editable": false,
    "lc_cell_meme": {
     "current": "24ba0694-f2e6-11e7-93cb-0242ac130002",
     "history": [],
     "next": "24ba07a2-f2e6-11e7-93cb-0242ac130002",
     "previous": "24ba0586-f2e6-11e7-93cb-0242ac130002"
    },
    "run_through_control": {
     "frozen": true
    }
   },
   "outputs": [
    {
     "name": "stdout",
     "output_type": "stream",
     "text": [
      "[test-machine]\n",
      "XXX.XXX.207.86"
     ]
    }
   ],
   "source": [
    "print('[{g}]'.format(g=target_group))\n",
    "!cat {work_dir}/hosts"
   ]
  },
  {
   "cell_type": "markdown",
   "metadata": {
    "lc_cell_meme": {
     "current": "24ba07a2-f2e6-11e7-93cb-0242ac130002",
     "history": [],
     "next": "24ba08a6-f2e6-11e7-93cb-0242ac130002",
     "previous": "24ba0694-f2e6-11e7-93cb-0242ac130002"
    }
   },
   "source": [
    "エディタに入力し、Saveをおこなったら、以下のセルを実行して、記述した内容が出力されることを確認します。"
   ]
  },
  {
   "cell_type": "code",
   "execution_count": 88,
   "metadata": {
    "deletable": false,
    "editable": false,
    "lc_cell_meme": {
     "current": "24ba08a6-f2e6-11e7-93cb-0242ac130002",
     "history": [],
     "next": "24ba09b4-f2e6-11e7-93cb-0242ac130002",
     "previous": "24ba07a2-f2e6-11e7-93cb-0242ac130002"
    },
    "run_through_control": {
     "frozen": true
    }
   },
   "outputs": [
    {
     "name": "stdout",
     "output_type": "stream",
     "text": [
      "[test-machine]\r\n",
      "XXX.XXX.207.86"
     ]
    }
   ],
   "source": [
    "!cat /notebooks/hosts"
   ]
  },
  {
   "cell_type": "markdown",
   "metadata": {
    "lc_cell_meme": {
     "current": "24ba09b4-f2e6-11e7-93cb-0242ac130002",
     "history": [],
     "next": "24ba0ac2-f2e6-11e7-93cb-0242ac130002",
     "previous": "24ba08a6-f2e6-11e7-93cb-0242ac130002"
    }
   },
   "source": [
    "これをおこなったら、以下のようにAnsibleの`ping`モジュールを実行してみます。実行対象グループとして、 `target_group` を指定しています。ここでは、認証情報などを移行していないので、失敗するはずです。\n"
   ]
  },
  {
   "cell_type": "code",
   "execution_count": 91,
   "metadata": {
    "deletable": false,
    "editable": false,
    "lc_cell_meme": {
     "current": "24ba0ac2-f2e6-11e7-93cb-0242ac130002",
     "history": [],
     "next": "24ba0bd0-f2e6-11e7-93cb-0242ac130002",
     "previous": "24ba09b4-f2e6-11e7-93cb-0242ac130002"
    },
    "run_through_control": {
     "frozen": true
    },
    "scrolled": true
   },
   "outputs": [
    {
     "name": "stdout",
     "output_type": "stream",
     "text": [
      "\u001b[1;31mXXX.XXX.207.86 | UNREACHABLE! => {\u001b[0m\r\n",
      "\u001b[1;31m    \"changed\": false, \u001b[0m\r\n",
      "\u001b[1;31m    \"msg\": \"Failed to connect to the host via ssh: Permission denied (publickey).\\r\\n\", \u001b[0m\r\n",
      "\u001b[1;31m    \"unreachable\": true\u001b[0m\r\n",
      "\u001b[1;31m}\u001b[0m\r\n"
     ]
    },
    {
     "ename": "RuntimeError",
     "evalue": "Unexpected exit code: 4",
     "output_type": "error",
     "traceback": [
      "\u001b[0;31m---------------------------------------------------------------------------\u001b[0m",
      "\u001b[0;31mRuntimeError\u001b[0m                              Traceback (most recent call last)",
      "\u001b[0;32m<ipython-input-182-59f34f095fa7>\u001b[0m in \u001b[0;36m<module>\u001b[0;34m()\u001b[0m\n\u001b[0;32m----> 1\u001b[0;31m \u001b[0mget_ipython\u001b[0m\u001b[0;34m(\u001b[0m\u001b[0;34m)\u001b[0m\u001b[0;34m.\u001b[0m\u001b[0msystem\u001b[0m\u001b[0;34m(\u001b[0m\u001b[0;34m'ansible -i /notebooks/hosts -m ping {target_group}'\u001b[0m\u001b[0;34m)\u001b[0m\u001b[0;34m\u001b[0m\u001b[0m\n\u001b[0m",
      "\u001b[0;32m~/.ipython/profile_default/startup/10-custom-get_ipython_system.py\u001b[0m in \u001b[0;36m<lambda>\u001b[0;34m(x)\u001b[0m\n\u001b[1;32m      5\u001b[0m \u001b[0;34m\u001b[0m\u001b[0m\n\u001b[1;32m      6\u001b[0m \u001b[0msave_get_ipython_system\u001b[0m \u001b[0;34m=\u001b[0m \u001b[0mget_ipython\u001b[0m\u001b[0;34m(\u001b[0m\u001b[0;34m)\u001b[0m\u001b[0;34m.\u001b[0m\u001b[0msystem\u001b[0m\u001b[0;34m\u001b[0m\u001b[0m\n\u001b[0;32m----> 7\u001b[0;31m \u001b[0mget_ipython\u001b[0m\u001b[0;34m(\u001b[0m\u001b[0;34m)\u001b[0m\u001b[0;34m.\u001b[0m\u001b[0msystem\u001b[0m \u001b[0;34m=\u001b[0m \u001b[0;32mlambda\u001b[0m \u001b[0mx\u001b[0m\u001b[0;34m:\u001b[0m \u001b[0mget_ipython_system\u001b[0m\u001b[0;34m(\u001b[0m\u001b[0mx\u001b[0m\u001b[0;34m)\u001b[0m\u001b[0;34m\u001b[0m\u001b[0m\n\u001b[0m\u001b[1;32m      8\u001b[0m \u001b[0;34m\u001b[0m\u001b[0m\n\u001b[1;32m      9\u001b[0m \u001b[0;31m# interactiveshell.py's system_piped() function comment saids:\u001b[0m\u001b[0;34m\u001b[0m\u001b[0;34m\u001b[0m\u001b[0m\n",
      "\u001b[0;32m~/.ipython/profile_default/startup/10-custom-get_ipython_system.py\u001b[0m in \u001b[0;36mget_ipython_system\u001b[0;34m(cmd)\u001b[0m\n\u001b[1;32m     13\u001b[0m     \u001b[0msave_get_ipython_system\u001b[0m\u001b[0;34m(\u001b[0m\u001b[0mcmd\u001b[0m\u001b[0;34m)\u001b[0m\u001b[0;34m\u001b[0m\u001b[0m\n\u001b[1;32m     14\u001b[0m     \u001b[0;32mif\u001b[0m \u001b[0mget_ipython\u001b[0m\u001b[0;34m(\u001b[0m\u001b[0;34m)\u001b[0m\u001b[0;34m.\u001b[0m\u001b[0muser_ns\u001b[0m\u001b[0;34m[\u001b[0m\u001b[0;34m'_exit_code'\u001b[0m\u001b[0;34m]\u001b[0m \u001b[0;34m!=\u001b[0m \u001b[0;36m0\u001b[0m\u001b[0;34m:\u001b[0m\u001b[0;34m\u001b[0m\u001b[0m\n\u001b[0;32m---> 15\u001b[0;31m         \u001b[0;32mraise\u001b[0m \u001b[0mRuntimeError\u001b[0m\u001b[0;34m(\u001b[0m\u001b[0;34m'Unexpected exit code: %d'\u001b[0m \u001b[0;34m%\u001b[0m \u001b[0mget_ipython\u001b[0m\u001b[0;34m(\u001b[0m\u001b[0;34m)\u001b[0m\u001b[0;34m.\u001b[0m\u001b[0muser_ns\u001b[0m\u001b[0;34m[\u001b[0m\u001b[0;34m'_exit_code'\u001b[0m\u001b[0;34m]\u001b[0m\u001b[0;34m)\u001b[0m\u001b[0;34m\u001b[0m\u001b[0m\n\u001b[0m",
      "\u001b[0;31mRuntimeError\u001b[0m: Unexpected exit code: 4"
     ]
    }
   ],
   "source": [
    "!ansible -i /notebooks/hosts -m ping {target_group}"
   ]
  },
  {
   "cell_type": "markdown",
   "metadata": {
    "lc_cell_meme": {
     "current": "24ba0bd0-f2e6-11e7-93cb-0242ac130002",
     "history": [],
     "next": "24ba0cde-f2e6-11e7-93cb-0242ac130002",
     "previous": "24ba0ac2-f2e6-11e7-93cb-0242ac130002"
    }
   },
   "source": [
    "では、次に、この`/notebooks/hosts`をデフォルトインベントリにしてみましょう。 `/etc/ansible/ansible.cfg`を利用します。\n",
    "\n",
    "まず、現在の設定を確認します。"
   ]
  },
  {
   "cell_type": "code",
   "execution_count": 92,
   "metadata": {
    "deletable": false,
    "editable": false,
    "lc_cell_meme": {
     "current": "24ba0cde-f2e6-11e7-93cb-0242ac130002",
     "history": [],
     "next": "24ba0dec-f2e6-11e7-93cb-0242ac130002",
     "previous": "24ba0bd0-f2e6-11e7-93cb-0242ac130002"
    },
    "run_through_control": {
     "frozen": true
    }
   },
   "outputs": [
    {
     "name": "stdout",
     "output_type": "stream",
     "text": [
      "[defaults]\r\n",
      "forks = 3\r\n"
     ]
    }
   ],
   "source": [
    "!cat /etc/ansible/ansible.cfg"
   ]
  },
  {
   "cell_type": "markdown",
   "metadata": {
    "lc_cell_meme": {
     "current": "24ba0dec-f2e6-11e7-93cb-0242ac130002",
     "history": [],
     "next": "24ba0efa-f2e6-11e7-93cb-0242ac130002",
     "previous": "24ba0cde-f2e6-11e7-93cb-0242ac130002"
    }
   },
   "source": [
    "このファイルに、 `inventory` を追記します。\n",
    "今回は Ansible Vaultのパスワードファイルも明示してしまいましょう。"
   ]
  },
  {
   "cell_type": "code",
   "execution_count": 109,
   "metadata": {
    "deletable": false,
    "editable": false,
    "lc_cell_meme": {
     "current": "24ba0efa-f2e6-11e7-93cb-0242ac130002",
     "history": [],
     "next": "24ba1008-f2e6-11e7-93cb-0242ac130002",
     "previous": "24ba0dec-f2e6-11e7-93cb-0242ac130002"
    },
    "run_through_control": {
     "frozen": true
    }
   },
   "outputs": [
    {
     "name": "stdout",
     "output_type": "stream",
     "text": [
      "Overwriting /tmp/tmpc1hqa30_/ansible.cfg\n"
     ]
    }
   ],
   "source": [
    "%%writefile {work_dir}/ansible.cfg\n",
    "[defaults]\n",
    "forks = 3\n",
    "inventory = /notebooks/hosts\n",
    "vault_password_file = ~/.ansible_vault_pass"
   ]
  },
  {
   "cell_type": "code",
   "execution_count": 110,
   "metadata": {
    "deletable": false,
    "editable": false,
    "lc_cell_meme": {
     "current": "24ba1008-f2e6-11e7-93cb-0242ac130002",
     "history": [],
     "next": "24ba1116-f2e6-11e7-93cb-0242ac130002",
     "previous": "24ba0efa-f2e6-11e7-93cb-0242ac130002"
    },
    "run_through_control": {
     "frozen": true
    }
   },
   "outputs": [],
   "source": [
    "!sudo cp {work_dir}/ansible.cfg /etc/ansible/ansible.cfg"
   ]
  },
  {
   "cell_type": "markdown",
   "metadata": {
    "lc_cell_meme": {
     "current": "24ba1116-f2e6-11e7-93cb-0242ac130002",
     "history": [],
     "next": "24ba1224-f2e6-11e7-93cb-0242ac130002",
     "previous": "24ba1008-f2e6-11e7-93cb-0242ac130002"
    }
   },
   "source": [
    "設定ファイルが更新されたことを確認します。"
   ]
  },
  {
   "cell_type": "code",
   "execution_count": 111,
   "metadata": {
    "deletable": false,
    "editable": false,
    "lc_cell_meme": {
     "current": "24ba1224-f2e6-11e7-93cb-0242ac130002",
     "history": [],
     "next": "24ba1332-f2e6-11e7-93cb-0242ac130002",
     "previous": "24ba1116-f2e6-11e7-93cb-0242ac130002"
    },
    "run_through_control": {
     "frozen": true
    }
   },
   "outputs": [
    {
     "name": "stdout",
     "output_type": "stream",
     "text": [
      "[defaults]\r\n",
      "forks = 3\r\n",
      "inventory = /notebooks/hosts\r\n",
      "vault_password_file = ~/.ansible_vault_pass"
     ]
    }
   ],
   "source": [
    "!cat /etc/ansible/ansible.cfg"
   ]
  },
  {
   "cell_type": "markdown",
   "metadata": {
    "lc_cell_meme": {
     "current": "24ba1332-f2e6-11e7-93cb-0242ac130002",
     "history": [],
     "next": "24ba1436-f2e6-11e7-93cb-0242ac130002",
     "previous": "24ba1224-f2e6-11e7-93cb-0242ac130002"
    }
   },
   "source": [
    "このようにすると、 `-i /notebooks/hosts`を指定しなくても、Ansibleのインベントリを利用できるようになります。\n",
    "(まだ、認証情報などを移行していないので、失敗するはずです。)"
   ]
  },
  {
   "cell_type": "code",
   "execution_count": 100,
   "metadata": {
    "deletable": false,
    "editable": false,
    "lc_cell_meme": {
     "current": "24ba1436-f2e6-11e7-93cb-0242ac130002",
     "history": [],
     "next": "24ba1544-f2e6-11e7-93cb-0242ac130002",
     "previous": "24ba1332-f2e6-11e7-93cb-0242ac130002"
    },
    "run_through_control": {
     "frozen": true
    },
    "scrolled": true
   },
   "outputs": [
    {
     "name": "stdout",
     "output_type": "stream",
     "text": [
      "\u001b[1;31mXXX.XXX.207.86 | UNREACHABLE! => {\u001b[0m\r\n",
      "\u001b[1;31m    \"changed\": false, \u001b[0m\r\n",
      "\u001b[1;31m    \"msg\": \"Failed to connect to the host via ssh: Permission denied (publickey).\\r\\n\", \u001b[0m\r\n",
      "\u001b[1;31m    \"unreachable\": true\u001b[0m\r\n",
      "\u001b[1;31m}\u001b[0m\r\n"
     ]
    },
    {
     "ename": "RuntimeError",
     "evalue": "Unexpected exit code: 4",
     "output_type": "error",
     "traceback": [
      "\u001b[0;31m---------------------------------------------------------------------------\u001b[0m",
      "\u001b[0;31mRuntimeError\u001b[0m                              Traceback (most recent call last)",
      "\u001b[0;32m<ipython-input-200-37ab22836e50>\u001b[0m in \u001b[0;36m<module>\u001b[0;34m()\u001b[0m\n\u001b[0;32m----> 1\u001b[0;31m \u001b[0mget_ipython\u001b[0m\u001b[0;34m(\u001b[0m\u001b[0;34m)\u001b[0m\u001b[0;34m.\u001b[0m\u001b[0msystem\u001b[0m\u001b[0;34m(\u001b[0m\u001b[0;34m'ansible -m ping {target_group}'\u001b[0m\u001b[0;34m)\u001b[0m\u001b[0;34m\u001b[0m\u001b[0m\n\u001b[0m",
      "\u001b[0;32m~/.ipython/profile_default/startup/10-custom-get_ipython_system.py\u001b[0m in \u001b[0;36m<lambda>\u001b[0;34m(x)\u001b[0m\n\u001b[1;32m      5\u001b[0m \u001b[0;34m\u001b[0m\u001b[0m\n\u001b[1;32m      6\u001b[0m \u001b[0msave_get_ipython_system\u001b[0m \u001b[0;34m=\u001b[0m \u001b[0mget_ipython\u001b[0m\u001b[0;34m(\u001b[0m\u001b[0;34m)\u001b[0m\u001b[0;34m.\u001b[0m\u001b[0msystem\u001b[0m\u001b[0;34m\u001b[0m\u001b[0m\n\u001b[0;32m----> 7\u001b[0;31m \u001b[0mget_ipython\u001b[0m\u001b[0;34m(\u001b[0m\u001b[0;34m)\u001b[0m\u001b[0;34m.\u001b[0m\u001b[0msystem\u001b[0m \u001b[0;34m=\u001b[0m \u001b[0;32mlambda\u001b[0m \u001b[0mx\u001b[0m\u001b[0;34m:\u001b[0m \u001b[0mget_ipython_system\u001b[0m\u001b[0;34m(\u001b[0m\u001b[0mx\u001b[0m\u001b[0;34m)\u001b[0m\u001b[0;34m\u001b[0m\u001b[0m\n\u001b[0m\u001b[1;32m      8\u001b[0m \u001b[0;34m\u001b[0m\u001b[0m\n\u001b[1;32m      9\u001b[0m \u001b[0;31m# interactiveshell.py's system_piped() function comment saids:\u001b[0m\u001b[0;34m\u001b[0m\u001b[0;34m\u001b[0m\u001b[0m\n",
      "\u001b[0;32m~/.ipython/profile_default/startup/10-custom-get_ipython_system.py\u001b[0m in \u001b[0;36mget_ipython_system\u001b[0;34m(cmd)\u001b[0m\n\u001b[1;32m     13\u001b[0m     \u001b[0msave_get_ipython_system\u001b[0m\u001b[0;34m(\u001b[0m\u001b[0mcmd\u001b[0m\u001b[0;34m)\u001b[0m\u001b[0;34m\u001b[0m\u001b[0m\n\u001b[1;32m     14\u001b[0m     \u001b[0;32mif\u001b[0m \u001b[0mget_ipython\u001b[0m\u001b[0;34m(\u001b[0m\u001b[0;34m)\u001b[0m\u001b[0;34m.\u001b[0m\u001b[0muser_ns\u001b[0m\u001b[0;34m[\u001b[0m\u001b[0;34m'_exit_code'\u001b[0m\u001b[0;34m]\u001b[0m \u001b[0;34m!=\u001b[0m \u001b[0;36m0\u001b[0m\u001b[0;34m:\u001b[0m\u001b[0;34m\u001b[0m\u001b[0m\n\u001b[0;32m---> 15\u001b[0;31m         \u001b[0;32mraise\u001b[0m \u001b[0mRuntimeError\u001b[0m\u001b[0;34m(\u001b[0m\u001b[0;34m'Unexpected exit code: %d'\u001b[0m \u001b[0;34m%\u001b[0m \u001b[0mget_ipython\u001b[0m\u001b[0;34m(\u001b[0m\u001b[0;34m)\u001b[0m\u001b[0;34m.\u001b[0m\u001b[0muser_ns\u001b[0m\u001b[0;34m[\u001b[0m\u001b[0;34m'_exit_code'\u001b[0m\u001b[0;34m]\u001b[0m\u001b[0;34m)\u001b[0m\u001b[0;34m\u001b[0m\u001b[0m\n\u001b[0m",
      "\u001b[0;31mRuntimeError\u001b[0m: Unexpected exit code: 4"
     ]
    }
   ],
   "source": [
    "!ansible -m ping {target_group}"
   ]
  },
  {
   "cell_type": "markdown",
   "metadata": {
    "lc_cell_meme": {
     "current": "24ba1544-f2e6-11e7-93cb-0242ac130002",
     "history": [],
     "next": "24ba1652-f2e6-11e7-93cb-0242ac130002",
     "previous": "24ba1436-f2e6-11e7-93cb-0242ac130002"
    }
   },
   "source": [
    "### 変数ファイル\n",
    "\n",
    "先の接続確認では `host_vars`ファイルに接続設定を記述していましたが、ここでは、`{target_group}` に所属するすべてのホストが同じSSH接続設定を利用すると仮定して、ファイルを配置してみましょう。"
   ]
  },
  {
   "cell_type": "markdown",
   "metadata": {
    "lc_cell_meme": {
     "current": "24ba1652-f2e6-11e7-93cb-0242ac130002",
     "history": [],
     "next": "24ba1760-f2e6-11e7-93cb-0242ac130002",
     "previous": "24ba1544-f2e6-11e7-93cb-0242ac130002"
    }
   },
   "source": [
    "`group_vars` ディレクトリは、インベントリファイルと同じディレクトリ配下に配置する必要があります。"
   ]
  },
  {
   "cell_type": "code",
   "execution_count": 101,
   "metadata": {
    "deletable": false,
    "editable": false,
    "lc_cell_meme": {
     "current": "24ba1760-f2e6-11e7-93cb-0242ac130002",
     "history": [],
     "next": "24ba1864-f2e6-11e7-93cb-0242ac130002",
     "previous": "24ba1652-f2e6-11e7-93cb-0242ac130002"
    },
    "run_through_control": {
     "frozen": true
    }
   },
   "outputs": [],
   "source": [
    "!mkdir -p /notebooks/group_vars/"
   ]
  },
  {
   "cell_type": "markdown",
   "metadata": {
    "lc_cell_meme": {
     "current": "24ba1864-f2e6-11e7-93cb-0242ac130002",
     "history": [],
     "next": "24ba1972-f2e6-11e7-93cb-0242ac130002",
     "previous": "24ba1760-f2e6-11e7-93cb-0242ac130002"
    }
   },
   "source": [
    "このディレクトリに、一時ディレクトリ内に作成した`host_vars/{target_host}`(暗号化されているもの)をコピーします。"
   ]
  },
  {
   "cell_type": "code",
   "execution_count": 103,
   "metadata": {
    "deletable": false,
    "editable": false,
    "lc_cell_meme": {
     "current": "24ba1972-f2e6-11e7-93cb-0242ac130002",
     "history": [],
     "next": "24ba1a76-f2e6-11e7-93cb-0242ac130002",
     "previous": "24ba1864-f2e6-11e7-93cb-0242ac130002"
    },
    "run_through_control": {
     "frozen": true
    }
   },
   "outputs": [],
   "source": [
    "!cp {work_dir}/host_vars/{target_host} /notebooks/group_vars/{target_group}"
   ]
  },
  {
   "cell_type": "markdown",
   "metadata": {
    "lc_cell_meme": {
     "current": "24ba1a76-f2e6-11e7-93cb-0242ac130002",
     "history": [],
     "next": "24ba1b84-f2e6-11e7-93cb-0242ac130002",
     "previous": "24ba1972-f2e6-11e7-93cb-0242ac130002"
    }
   },
   "source": [
    "すると、以下のようなファイル配置になります。"
   ]
  },
  {
   "cell_type": "code",
   "execution_count": 107,
   "metadata": {
    "deletable": false,
    "editable": false,
    "lc_cell_meme": {
     "current": "24ba1b84-f2e6-11e7-93cb-0242ac130002",
     "history": [],
     "next": "24ba1c92-f2e6-11e7-93cb-0242ac130002",
     "previous": "24ba1a76-f2e6-11e7-93cb-0242ac130002"
    },
    "run_through_control": {
     "frozen": true
    }
   },
   "outputs": [
    {
     "name": "stdout",
     "output_type": "stream",
     "text": [
      "-rw-r--r-- 1 bit_kun users 27 Jan  6 22:09 /notebooks/hosts\n",
      "\n",
      "/notebooks/group_vars\n",
      "total 4\n",
      "drwxr-xr-x  3 bit_kun users   96 Jan  6 22:22 .\n",
      "drwxr-xr-x 97 bit_kun users 3104 Jan  6 22:21 ..\n",
      "-rw-------  1 bit_kun users 1003 Jan  6 22:22 test-machine\n"
     ]
    }
   ],
   "source": [
    "!ls -la /notebooks/hosts\n",
    "!echo\n",
    "!echo /notebooks/group_vars\n",
    "!ls -la /notebooks/group_vars"
   ]
  },
  {
   "cell_type": "markdown",
   "metadata": {
    "lc_cell_meme": {
     "current": "24ba1c92-f2e6-11e7-93cb-0242ac130002",
     "history": [],
     "next": "24ba1d96-f2e6-11e7-93cb-0242ac130002",
     "previous": "24ba1b84-f2e6-11e7-93cb-0242ac130002"
    }
   },
   "source": [
    "これで、Ansibleで疎通できることを確認します。"
   ]
  },
  {
   "cell_type": "code",
   "execution_count": 112,
   "metadata": {
    "deletable": false,
    "editable": false,
    "lc_cell_meme": {
     "current": "24ba1d96-f2e6-11e7-93cb-0242ac130002",
     "history": [],
     "next": "24ba1ea4-f2e6-11e7-93cb-0242ac130002",
     "previous": "24ba1c92-f2e6-11e7-93cb-0242ac130002"
    },
    "run_through_control": {
     "frozen": true
    }
   },
   "outputs": [
    {
     "name": "stdout",
     "output_type": "stream",
     "text": [
      "\u001b[0;32mXXX.XXX.207.86 | SUCCESS => {\u001b[0m\r\n",
      "\u001b[0;32m    \"changed\": false, \u001b[0m\r\n",
      "\u001b[0;32m    \"failed\": false, \u001b[0m\r\n",
      "\u001b[0;32m    \"ping\": \"pong\"\u001b[0m\r\n",
      "\u001b[0;32m}\u001b[0m\r\n"
     ]
    }
   ],
   "source": [
    "!ansible -m ping {target_group}"
   ]
  },
  {
   "cell_type": "markdown",
   "metadata": {
    "lc_cell_meme": {
     "current": "24ba1ea4-f2e6-11e7-93cb-0242ac130002",
     "history": [],
     "next": "24ba1fb2-f2e6-11e7-93cb-0242ac130002",
     "previous": "24ba1d96-f2e6-11e7-93cb-0242ac130002"
    }
   },
   "source": [
    "# まとめ\n",
    "\n",
    "Jupyter NotebookからAnsibleでマシンを操作可能にするまでの過程について、若干駆け足の部分がありつつも説明しました。実際には、細かなセキュリティ上の設定などあるとは思いますが、Jupyter Notebookとマシンのヒモ付にあたってのポイントは整理したつもりです。"
   ]
  },
  {
   "cell_type": "code",
   "execution_count": null,
   "metadata": {
    "lc_cell_meme": {
     "current": "24ba1fb2-f2e6-11e7-93cb-0242ac130002",
     "history": [],
     "next": null,
     "previous": "24ba1ea4-f2e6-11e7-93cb-0242ac130002"
    }
   },
   "outputs": [],
   "source": []
  }
 ],
 "metadata": {
  "kernelspec": {
   "display_name": "Python 3 (LC_wrapper)",
   "language": "python",
   "name": "python3-wrapper"
  },
  "language_info": {
   "file_extension": ".py",
   "mimetype": "text/x-python",
   "name": "python",
   "nbconvert_exporter": "python",
   "pygments_lexer": "ipython3",
   "version": "3.5.2"
  },
  "lc_notebook_meme": {
   "current": "24b9a5e6-f2e6-11e7-93cb-0242ac130002",
   "history": [],
   "root_cells": [
    "24b9a866-f2e6-11e7-93cb-0242ac130002",
    "24b9a9ba-f2e6-11e7-93cb-0242ac130002",
    "24b9aae6-f2e6-11e7-93cb-0242ac130002",
    "24b9ac08-f2e6-11e7-93cb-0242ac130002",
    "24b9ad2a-f2e6-11e7-93cb-0242ac130002",
    "24b9ae42-f2e6-11e7-93cb-0242ac130002",
    "24b9af50-f2e6-11e7-93cb-0242ac130002",
    "24b9b068-f2e6-11e7-93cb-0242ac130002",
    "24b9b176-f2e6-11e7-93cb-0242ac130002",
    "24b9b284-f2e6-11e7-93cb-0242ac130002",
    "24b9b39c-f2e6-11e7-93cb-0242ac130002",
    "24b9b536-f2e6-11e7-93cb-0242ac130002",
    "24b9b9e6-f2e6-11e7-93cb-0242ac130002",
    "24b9bb80-f2e6-11e7-93cb-0242ac130002",
    "24b9bc98-f2e6-11e7-93cb-0242ac130002",
    "24b9bda6-f2e6-11e7-93cb-0242ac130002",
    "24b9beb4-f2e6-11e7-93cb-0242ac130002",
    "24b9bfc2-f2e6-11e7-93cb-0242ac130002",
    "24b9c0d0-f2e6-11e7-93cb-0242ac130002",
    "24b9c1de-f2e6-11e7-93cb-0242ac130002",
    "24b9c2f6-f2e6-11e7-93cb-0242ac130002",
    "24b9c3fa-f2e6-11e7-93cb-0242ac130002",
    "24b9c512-f2e6-11e7-93cb-0242ac130002",
    "24b9c62a-f2e6-11e7-93cb-0242ac130002",
    "24b9c738-f2e6-11e7-93cb-0242ac130002",
    "24b9c850-f2e6-11e7-93cb-0242ac130002",
    "24b9c95e-f2e6-11e7-93cb-0242ac130002",
    "24b9ca6c-f2e6-11e7-93cb-0242ac130002",
    "24b9cb7a-f2e6-11e7-93cb-0242ac130002",
    "24b9cc88-f2e6-11e7-93cb-0242ac130002",
    "24b9cd96-f2e6-11e7-93cb-0242ac130002",
    "24b9cea4-f2e6-11e7-93cb-0242ac130002",
    "24b9cfbc-f2e6-11e7-93cb-0242ac130002",
    "24b9d0ca-f2e6-11e7-93cb-0242ac130002",
    "24b9d1d8-f2e6-11e7-93cb-0242ac130002",
    "24b9d2f0-f2e6-11e7-93cb-0242ac130002",
    "24b9d3fe-f2e6-11e7-93cb-0242ac130002",
    "24b9d502-f2e6-11e7-93cb-0242ac130002",
    "24b9d61a-f2e6-11e7-93cb-0242ac130002",
    "24b9d73c-f2e6-11e7-93cb-0242ac130002",
    "24b9d84a-f2e6-11e7-93cb-0242ac130002",
    "24b9d958-f2e6-11e7-93cb-0242ac130002",
    "24b9da66-f2e6-11e7-93cb-0242ac130002",
    "24b9db74-f2e6-11e7-93cb-0242ac130002",
    "24b9dc78-f2e6-11e7-93cb-0242ac130002",
    "24b9dd90-f2e6-11e7-93cb-0242ac130002",
    "24b9de94-f2e6-11e7-93cb-0242ac130002",
    "24b9dfac-f2e6-11e7-93cb-0242ac130002",
    "24b9e0b0-f2e6-11e7-93cb-0242ac130002",
    "24b9e1be-f2e6-11e7-93cb-0242ac130002",
    "24b9e2cc-f2e6-11e7-93cb-0242ac130002",
    "24b9e3d0-f2e6-11e7-93cb-0242ac130002",
    "24b9e4d4-f2e6-11e7-93cb-0242ac130002",
    "24b9e5e2-f2e6-11e7-93cb-0242ac130002",
    "24b9e6f0-f2e6-11e7-93cb-0242ac130002",
    "24b9e7f4-f2e6-11e7-93cb-0242ac130002",
    "24b9e902-f2e6-11e7-93cb-0242ac130002",
    "24b9ea10-f2e6-11e7-93cb-0242ac130002",
    "24b9eb1e-f2e6-11e7-93cb-0242ac130002",
    "24b9ec2c-f2e6-11e7-93cb-0242ac130002",
    "24b9ed3a-f2e6-11e7-93cb-0242ac130002",
    "24b9ee48-f2e6-11e7-93cb-0242ac130002",
    "24b9ef60-f2e6-11e7-93cb-0242ac130002",
    "24b9f064-f2e6-11e7-93cb-0242ac130002",
    "24b9f17c-f2e6-11e7-93cb-0242ac130002",
    "24b9f280-f2e6-11e7-93cb-0242ac130002",
    "24b9f38e-f2e6-11e7-93cb-0242ac130002",
    "24b9f492-f2e6-11e7-93cb-0242ac130002",
    "24b9f5a0-f2e6-11e7-93cb-0242ac130002",
    "24b9f6b8-f2e6-11e7-93cb-0242ac130002",
    "24b9f7c6-f2e6-11e7-93cb-0242ac130002",
    "24b9f8e8-f2e6-11e7-93cb-0242ac130002",
    "24b9f9f6-f2e6-11e7-93cb-0242ac130002",
    "24b9fb04-f2e6-11e7-93cb-0242ac130002",
    "24b9fc12-f2e6-11e7-93cb-0242ac130002",
    "24b9fd20-f2e6-11e7-93cb-0242ac130002",
    "24b9fe24-f2e6-11e7-93cb-0242ac130002",
    "24b9ff32-f2e6-11e7-93cb-0242ac130002",
    "24ba0040-f2e6-11e7-93cb-0242ac130002",
    "24ba014e-f2e6-11e7-93cb-0242ac130002",
    "24ba025c-f2e6-11e7-93cb-0242ac130002",
    "24ba036a-f2e6-11e7-93cb-0242ac130002",
    "24ba0478-f2e6-11e7-93cb-0242ac130002",
    "24ba0586-f2e6-11e7-93cb-0242ac130002",
    "24ba0694-f2e6-11e7-93cb-0242ac130002",
    "24ba07a2-f2e6-11e7-93cb-0242ac130002",
    "24ba08a6-f2e6-11e7-93cb-0242ac130002",
    "24ba09b4-f2e6-11e7-93cb-0242ac130002",
    "24ba0ac2-f2e6-11e7-93cb-0242ac130002",
    "24ba0bd0-f2e6-11e7-93cb-0242ac130002",
    "24ba0cde-f2e6-11e7-93cb-0242ac130002",
    "24ba0dec-f2e6-11e7-93cb-0242ac130002",
    "24ba0efa-f2e6-11e7-93cb-0242ac130002",
    "24ba1008-f2e6-11e7-93cb-0242ac130002",
    "24ba1116-f2e6-11e7-93cb-0242ac130002",
    "24ba1224-f2e6-11e7-93cb-0242ac130002",
    "24ba1332-f2e6-11e7-93cb-0242ac130002",
    "24ba1436-f2e6-11e7-93cb-0242ac130002",
    "24ba1544-f2e6-11e7-93cb-0242ac130002",
    "24ba1652-f2e6-11e7-93cb-0242ac130002",
    "24ba1760-f2e6-11e7-93cb-0242ac130002",
    "24ba1864-f2e6-11e7-93cb-0242ac130002",
    "24ba1972-f2e6-11e7-93cb-0242ac130002",
    "24ba1a76-f2e6-11e7-93cb-0242ac130002",
    "24ba1b84-f2e6-11e7-93cb-0242ac130002",
    "24ba1c92-f2e6-11e7-93cb-0242ac130002",
    "24ba1d96-f2e6-11e7-93cb-0242ac130002",
    "24ba1ea4-f2e6-11e7-93cb-0242ac130002",
    "24ba1fb2-f2e6-11e7-93cb-0242ac130002"
   ]
  },
  "toc": {
   "nav_menu": {},
   "number_sections": true,
   "sideBar": true,
   "skip_h1_title": false,
   "title_cell": "Table of Contents",
   "title_sidebar": "Contents",
   "toc_cell": false,
   "toc_position": {},
   "toc_section_display": true,
   "toc_window_display": true
  }
 },
 "nbformat": 4,
 "nbformat_minor": 2
}
